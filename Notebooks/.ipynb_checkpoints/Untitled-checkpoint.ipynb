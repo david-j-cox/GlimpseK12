{
 "cells": [
  {
   "cell_type": "code",
   "execution_count": 28,
   "metadata": {},
   "outputs": [
    {
     "name": "stdout",
     "output_type": "stream",
     "text": [
      "/Users/dcox/Dropbox/InsightFellowship/Glimpse/RawData\n"
     ]
    }
   ],
   "source": [
    "cd /Users/dcox/Dropbox/InsightFellowship/Glimpse/RawData/"
   ]
  },
  {
   "cell_type": "code",
   "execution_count": 29,
   "metadata": {},
   "outputs": [
    {
     "name": "stdout",
     "output_type": "stream",
     "text": [
      "/Users/dcox/Dropbox/InsightFellowship/Glimpse/RawData\r\n"
     ]
    }
   ],
   "source": [
    "!pwd"
   ]
  },
  {
   "cell_type": "code",
   "execution_count": 30,
   "metadata": {},
   "outputs": [],
   "source": [
    "import pandas as pd"
   ]
  },
  {
   "cell_type": "code",
   "execution_count": 31,
   "metadata": {},
   "outputs": [],
   "source": [
    "data1 = pd.read_csv('Elmore_merge.csv', keep_default_na=False, na_values=[\"\"], low_memory=False)"
   ]
  },
  {
   "cell_type": "code",
   "execution_count": 32,
   "metadata": {},
   "outputs": [],
   "source": [
    "data2 = pd.read_csv('Elmore-2017-2018 SY.csv', keep_default_na=False, na_values=[\"\"], low_memory=False)"
   ]
  },
  {
   "cell_type": "code",
   "execution_count": 33,
   "metadata": {},
   "outputs": [
    {
     "name": "stdout",
     "output_type": "stream",
     "text": [
      "['Course', 'Section', 'SectionShortName', 'TNUM', 'GR', 'Year', 'School', 'Type', 'District', 'GlimpsestudentId', 'ScantronMathPreTestBenchmarks', 'ScantronReadingPreTestBenchmarks', 'ScantronMathMidTestBenchmarks', 'ScantronReadingMidTestBenchmarks', 'ScantronMathPostTestBenchmarks', 'ScantronReadingPostTestBenchmarks', 'ScantronMathPreTest', 'ScantronReadingPreTest', 'ScantronMathMidTest', 'ScantronReadingMidTest', 'ScantronMathPostTest', 'ScantronReadingPostTest', 'IXLMathNonUser', 'IXLMathPartialUser', 'IXLMathUser', 'IXLReadingNon', 'IXLReadingPartial', 'IXLReadingUser', 'Raw_Change_Math_Mid', 'Raw_Change_Read_Mid', 'Ratio_Change_Math_Mid', 'Ratio_Change_Reading_Mid', 'num_na']\n",
      "['Course', 'Section', 'SectionShortName', 'TNUM', 'GR', 'Year', 'School', 'Type', 'District', 'GlimpsestudentID', 'ScantronMathPreTestBenchmarks', 'ScantronReadingPreTestBenchmarks', 'ScantronMathMidTestBenchmarks', 'ScantronReadingMidTestBenchmarks', 'ScantronMathPostTestBenchmarks', 'ScantronReadingPostTestBenchmarks', 'ScantronMathPreTest', 'ScantronReadingPreTest', 'ScantronMathMidTest', 'ScantronReadingMidTest', 'ScantronMathPostTest', 'ScantronReadingPostTest', 'IXLMathNonUser', 'IXLMathPartialUser', 'IXLMathUser', 'IXLReadingNon', 'IXLReadingPartial', 'IXLReadingUser', 'Raw_Change_Math_Year', 'Raw_Change_Read_Year', 'Ratio_Change_Math_Year', 'Ratio_Change_Reading_Year', 'num_na']\n"
     ]
    }
   ],
   "source": [
    "print(list(data1))\n",
    "print(list(data2))"
   ]
  },
  {
   "cell_type": "code",
   "execution_count": 34,
   "metadata": {},
   "outputs": [],
   "source": [
    "data_elm_merge = pd.concat([data1, data2], axis=0, sort=False)"
   ]
  },
  {
   "cell_type": "code",
   "execution_count": 35,
   "metadata": {},
   "outputs": [
    {
     "name": "stdout",
     "output_type": "stream",
     "text": [
      "78213\n",
      "82173\n",
      "Expected:  160386\n",
      "Actual: 160386\n"
     ]
    }
   ],
   "source": [
    "print(len(data1))\n",
    "print(len(data2))\n",
    "print(\"Expected: \", len(data1) + len(data2))\n",
    "print(\"Actual:\", len(data_elm_merge))"
   ]
  },
  {
   "cell_type": "code",
   "execution_count": 36,
   "metadata": {},
   "outputs": [],
   "source": [
    "data_elm_merge.to_csv('dis_a_merge.csv')"
   ]
  },
  {
   "cell_type": "code",
   "execution_count": null,
   "metadata": {},
   "outputs": [],
   "source": []
  }
 ],
 "metadata": {
  "kernelspec": {
   "display_name": "Python 3",
   "language": "python",
   "name": "python3"
  },
  "language_info": {
   "codemirror_mode": {
    "name": "ipython",
    "version": 3
   },
   "file_extension": ".py",
   "mimetype": "text/x-python",
   "name": "python",
   "nbconvert_exporter": "python",
   "pygments_lexer": "ipython3",
   "version": "3.7.4"
  }
 },
 "nbformat": 4,
 "nbformat_minor": 2
}
