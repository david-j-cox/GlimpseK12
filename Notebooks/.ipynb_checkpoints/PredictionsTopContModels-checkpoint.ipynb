{
 "cells": [
  {
   "cell_type": "code",
   "execution_count": 1,
   "metadata": {},
   "outputs": [
    {
     "name": "stdout",
     "output_type": "stream",
     "text": [
      "/Users/dcox/Dropbox/InsightFellowship/Glimpse\n"
     ]
    }
   ],
   "source": [
    "cd /Users/dcox/Dropbox/InsightFellowship/Glimpse/"
   ]
  },
  {
   "cell_type": "markdown",
   "metadata": {},
   "source": [
    "## Standard setup"
   ]
  },
  {
   "cell_type": "code",
   "execution_count": 2,
   "metadata": {},
   "outputs": [],
   "source": [
    "import numpy as np\n",
    "import matplotlib.pyplot as plt\n",
    "import pandas as pd\n",
    "from sklearn import metrics\n",
    "from sklearn.metrics import r2_score\n",
    "from sklearn.model_selection import train_test_split"
   ]
  },
  {
   "cell_type": "code",
   "execution_count": 3,
   "metadata": {},
   "outputs": [],
   "source": [
    "most_feats = pd.read_csv('most_feats_cont.csv')"
   ]
  },
  {
   "cell_type": "code",
   "execution_count": 4,
   "metadata": {},
   "outputs": [],
   "source": [
    "mostFeats_MathOutc = most_feats['ScantronMathPostTest']\n",
    "mostFeats_ReadOutc = most_feats['ScantronReadingPostTest']\n",
    "mostFeats_pred = most_feats.drop(['ScantronMathPostTest', 'ScantronReadingPostTest'], axis=1)"
   ]
  },
  {
   "cell_type": "code",
   "execution_count": 5,
   "metadata": {},
   "outputs": [],
   "source": [
    "mostFeats_predCols = list(mostFeats_pred)\n",
    "mostFeats_predCodes = []\n",
    "for i in mostFeats_predCols:\n",
    "    mostFeats_pred[i] = mostFeats_pred[i].astype('category')\n",
    "    d = dict(enumerate(mostFeats_pred[i].cat.categories))\n",
    "    mostFeats_predCodes.append(d)\n",
    "    mostFeats_pred[i] = mostFeats_pred[i].astype('category')\n",
    "    mostFeats_pred[i] = mostFeats_pred[i].cat.codes"
   ]
  },
  {
   "cell_type": "code",
   "execution_count": 6,
   "metadata": {},
   "outputs": [],
   "source": [
    "# Function we'll use for plotting throughout. \n",
    "def line_plot(x):\n",
    "    '''Returns lineplot of r^2 values for model tested.'''\n",
    "    plt.plot(r2_vals, marker='o', color='black')\n",
    "    plt.xlabel('Hyperparam Values Order')\n",
    "    plt.ylabel('R^2')\n",
    "    print(\"Highest R^2:\", max(x))"
   ]
  },
  {
   "cell_type": "markdown",
   "metadata": {},
   "source": [
    "# Create a list of all student-teacher combinations for predictions. "
   ]
  },
  {
   "cell_type": "code",
   "execution_count": 7,
   "metadata": {},
   "outputs": [
    {
     "name": "stdout",
     "output_type": "stream",
     "text": [
      "Number of Unique Teachers: 278\n"
     ]
    }
   ],
   "source": [
    "teachers = mostFeats_pred['TNUM'].unique()\n",
    "print('Number of Unique Teachers:', len(teachers))"
   ]
  },
  {
   "cell_type": "code",
   "execution_count": 8,
   "metadata": {},
   "outputs": [
    {
     "name": "stdout",
     "output_type": "stream",
     "text": [
      "Number of Unique Grades: 6\n"
     ]
    }
   ],
   "source": [
    "grade = mostFeats_pred['GR'].unique()\n",
    "print('Number of Unique Grades:', len(grade))"
   ]
  },
  {
   "cell_type": "code",
   "execution_count": 9,
   "metadata": {},
   "outputs": [],
   "source": [
    "# Only showing grades 3-4 for the demo. \n",
    "student3 = mostFeats_pred.loc[mostFeats_pred['GR'] == 3]\n",
    "student4 = mostFeats_pred.loc[mostFeats_pred['GR'] == 4]\n",
    "student5 = mostFeats_pred.loc[mostFeats_pred['GR'] == 5]"
   ]
  },
  {
   "cell_type": "code",
   "execution_count": 10,
   "metadata": {},
   "outputs": [],
   "source": [
    "teach3 = student3['TNUM'].unique()\n",
    "teach4 = student4['TNUM'].unique()\n",
    "teach5 = student5['TNUM'].unique()"
   ]
  },
  {
   "cell_type": "code",
   "execution_count": 11,
   "metadata": {},
   "outputs": [
    {
     "name": "stdout",
     "output_type": "stream",
     "text": [
      "Length: 2075109\n",
      "Expected Length: 2075109\n"
     ]
    }
   ],
   "source": [
    "# Generate df for predictions for all third and fourth graders who might stay in in the same grade or advance to the next grade. \n",
    "all_pred = []\n",
    "for i in teach3:\n",
    "    data = student3.copy()\n",
    "    data.GR = 3\n",
    "    data.TNUM = i\n",
    "    all_pred.append(data)\n",
    "for i in teach4:\n",
    "    data = student3.copy()\n",
    "    data.GR = 4\n",
    "    data.TNUM = i\n",
    "    all_pred.append(data)\n",
    "for i in teach5:\n",
    "    data = student3.copy()\n",
    "    data.GR = 5\n",
    "    data.TNUM = i\n",
    "    all_pred.append(data)\n",
    "for i in teach4:\n",
    "    data = student4.copy()\n",
    "    data.GR = 4\n",
    "    data.TNUM = i\n",
    "    all_pred.append(data)\n",
    "for i in teach5:\n",
    "    data = student4.copy()\n",
    "    data.GR = 5\n",
    "    data.TNUM = i\n",
    "    all_pred.append(data)\n",
    "all_pred = pd.concat(all_pred)\n",
    "print(\"Length:\", len(all_pred))\n",
    "print(\"Expected Length:\", len(student3)*len(teach3) + len(student3)*len(teach4) + len(student3)*len(teach5) +\n",
    "     len(student4)*len(teach4) + len(student4)*len(teach5))"
   ]
  },
  {
   "cell_type": "markdown",
   "metadata": {},
   "source": [
    "# Continuous Variable Predictions:\n",
    "## The top models were:\n",
    "- Continuous outcome variables: k-Nearest Neighbors using the most features dataset. \n",
    "- Binary outcome variables: Random Forest using the most features dataset with the engineered feature of pre-to-mid-test change. "
   ]
  },
  {
   "cell_type": "markdown",
   "metadata": {},
   "source": [
    "## Math outcomes. "
   ]
  },
  {
   "cell_type": "code",
   "execution_count": 12,
   "metadata": {},
   "outputs": [
    {
     "name": "stdout",
     "output_type": "stream",
     "text": [
      "Highest R^2: 0.7520271558379724\n"
     ]
    },
    {
     "data": {
      "image/png": "[encoded data removed]",
      "text/plain": [
       "<Figure size 432x288 with 1 Axes>"
      ]
     },
     "metadata": {
      "needs_background": "light"
     },
     "output_type": "display_data"
    }
   ],
   "source": [
    "from sklearn.neighbors import KNeighborsRegressor\n",
    "# Math outcomes. \n",
    "X_train, X_test, y_train, y_test = train_test_split(mostFeats_pred, mostFeats_MathOutc, test_size=0.20, random_state = 649)\n",
    "r2_vals = []\n",
    "neighbors = list(range(1, 50))\n",
    "for i in neighbors:\n",
    "    neigh = KNeighborsRegressor(n_neighbors=i)\n",
    "    neigh.fit(X_train, y_train)\n",
    "    y_pred = neigh.predict(X_test)\n",
    "    score = r2_score(y_test, y_pred)\n",
    "    r2_vals.append(score)\n",
    "plt.plot(neighbors, r2_vals, marker='o', color='black')\n",
    "plt.xlabel('Number of Neighbors')\n",
    "plt.ylabel('R^2')\n",
    "print(\"Highest R^2:\", max(r2_vals))"
   ]
  },
  {
   "cell_type": "markdown",
   "metadata": {},
   "source": [
    "#### Optimal neighbors looks like 2. Create model using that number of neighbors. "
   ]
  },
  {
   "cell_type": "code",
   "execution_count": 11,
   "metadata": {},
   "outputs": [
    {
     "name": "stdout",
     "output_type": "stream",
     "text": [
      "0.7520271558379724\n"
     ]
    },
    {
     "data": {
      "text/plain": [
       "Text(0, 0.5, 'Predicted')"
      ]
     },
     "execution_count": 11,
     "metadata": {},
     "output_type": "execute_result"
    },
    {
     "data": {
      "image/png": "[encoded data removed]",
      "text/plain": [
       "<Figure size 432x288 with 1 Axes>"
      ]
     },
     "metadata": {
      "needs_background": "light"
     },
     "output_type": "display_data"
    }
   ],
   "source": [
    "from sklearn.neighbors import KNeighborsRegressor\n",
    "import matplotlib as plt\n",
    "# Make sure we identified the right number of neighbors. \n",
    "X_train, X_test, y_train, y_test = train_test_split(mostFeats_pred, mostFeats_MathOutc, test_size=0.20, random_state=649)\n",
    "math_neigh = KNeighborsRegressor(n_neighbors=2)\n",
    "math_neigh_fit = math_neigh.fit(X_train, y_train)\n",
    "y_pred = math_neigh.predict(X_test)\n",
    "score = r2_score(y_test, y_pred)\n",
    "print(score) # should be 0.752271558379724\n",
    "plt.pyplot.scatter(y_test, y_pred, color='black')\n",
    "plt.pyplot.xlim(1000, 3500)\n",
    "plt.pyplot.ylim(0, 3500)\n",
    "plt.pyplot.xlabel('Observed')\n",
    "plt.pyplot.ylabel('Predicted')"
   ]
  },
  {
   "cell_type": "code",
   "execution_count": 14,
   "metadata": {},
   "outputs": [],
   "source": [
    "# Train final math model\n",
    "math_neigh_final = math_neigh.fit(mostFeats_pred, mostFeats_MathOutc)"
   ]
  },
  {
   "cell_type": "markdown",
   "metadata": {},
   "source": [
    "### Fit the math model to make predictions about all student-teacher combinations. "
   ]
  },
  {
   "cell_type": "code",
   "execution_count": 15,
   "metadata": {},
   "outputs": [],
   "source": [
    "# Fit model to prediction data. \n",
    "math_final_predict = math_neigh_final.predict(all_pred)"
   ]
  },
  {
   "cell_type": "markdown",
   "metadata": {},
   "source": [
    "# Reading outcomes. "
   ]
  },
  {
   "cell_type": "code",
   "execution_count": 16,
   "metadata": {},
   "outputs": [
    {
     "name": "stdout",
     "output_type": "stream",
     "text": [
      "Highest R^2: 0.8120433606436155\n"
     ]
    },
    {
     "data": {
      "image/png": "[encoded data removed]",
      "text/plain": [
       "<Figure size 432x288 with 1 Axes>"
      ]
     },
     "metadata": {
      "needs_background": "light"
     },
     "output_type": "display_data"
    }
   ],
   "source": [
    "# Reading outcomes. \n",
    "X_train, X_test, y_train, y_test = train_test_split(mostFeats_pred, mostFeats_ReadOutc, test_size=0.20, random_state = 649)\n",
    "r2_vals = []\n",
    "neighbors = list(range(1, 50))\n",
    "for i in neighbors:\n",
    "    neigh = KNeighborsRegressor(n_neighbors=i)\n",
    "    neigh.fit(X_train, y_train)\n",
    "    y_pred = neigh.predict(X_test)\n",
    "    score = r2_score(y_test, y_pred)\n",
    "    r2_vals.append(score)\n",
    "plt.plot(r2_vals, marker='o', color='black')\n",
    "plt.xlabel('Number of Neighbors')\n",
    "plt.ylabel('R^2')\n",
    "print(\"Highest R^2:\", max(r2_vals))"
   ]
  },
  {
   "cell_type": "markdown",
   "metadata": {},
   "source": [
    "#### Optimal neighbors looks like 1. Create model using that number of neighbors. "
   ]
  },
  {
   "cell_type": "code",
   "execution_count": 14,
   "metadata": {},
   "outputs": [
    {
     "name": "stdout",
     "output_type": "stream",
     "text": [
      "0.8120433606436155\n"
     ]
    },
    {
     "data": {
      "text/plain": [
       "Text(0, 0.5, 'Predicted')"
      ]
     },
     "execution_count": 14,
     "metadata": {},
     "output_type": "execute_result"
    },
    {
     "data": {
      "image/png": "[encoded data removed]",
      "text/plain": [
       "<Figure size 432x288 with 1 Axes>"
      ]
     },
     "metadata": {
      "needs_background": "light"
     },
     "output_type": "display_data"
    }
   ],
   "source": [
    "# Make sure we got the right neighbor number. \n",
    "X_train, X_test, y_train, y_test = train_test_split(mostFeats_pred, mostFeats_ReadOutc, test_size=0.20, random_state=649)\n",
    "read_neigh = KNeighborsRegressor(n_neighbors=1)\n",
    "read_neigh_fit = read_neigh.fit(X_train, y_train)\n",
    "y_pred = read_neigh.predict(X_test)\n",
    "score = r2_score(y_test, y_pred)\n",
    "print(score) # should be 0.0.8120433606436155\n",
    "plt.pyplot.scatter(y_test, y_pred, color='black')\n",
    "plt.pyplot.xlim(1500, 3800)\n",
    "plt.pyplot.ylim(1500, 3800)\n",
    "plt.pyplot.xlabel('Observed')\n",
    "plt.pyplot.ylabel('Predicted')"
   ]
  },
  {
   "cell_type": "code",
   "execution_count": 18,
   "metadata": {},
   "outputs": [],
   "source": [
    "# Train final reading model\n",
    "read_neigh_final = read_neigh.fit(mostFeats_pred, mostFeats_ReadOutc)"
   ]
  },
  {
   "cell_type": "code",
   "execution_count": 19,
   "metadata": {},
   "outputs": [],
   "source": [
    "# Fit model to prediction data. \n",
    "read_final_predict = read_neigh_final.predict(all_pred)"
   ]
  },
  {
   "cell_type": "markdown",
   "metadata": {},
   "source": [
    "# Append math and reading predictions to the dataframe. "
   ]
  },
  {
   "cell_type": "code",
   "execution_count": 20,
   "metadata": {},
   "outputs": [],
   "source": [
    "all_pred['math_pred_cont'] = math_final_predict\n",
    "all_pred['read_pred_cont'] = read_final_predict\n",
    "all_pred = all_pred.drop(['Course','SectionID','Name','School','Type','Year','DistrictID','ScantronMathPreTest',\n",
    "                           'ScantronReadingPreTest','ScantronMathMidTest','ScantronReadingMidTest',\n",
    "                           'IXLMathNonUser','IXLMathPartialUser','IXLMathUser','IXLReadingNon',\n",
    "                           'IXLReadingPartial','IXLReadingUser'], axis=1)\n",
    "all_pred.to_csv('all_pred.csv')"
   ]
  }
 ],
 "metadata": {
  "kernelspec": {
   "display_name": "Python 3",
   "language": "python",
   "name": "python3"
  },
  "language_info": {
   "codemirror_mode": {
    "name": "ipython",
    "version": 3
   },
   "file_extension": ".py",
   "mimetype": "text/x-python",
   "name": "python",
   "nbconvert_exporter": "python",
   "pygments_lexer": "ipython3",
   "version": "3.7.5"
  }
 },
 "nbformat": 4,
 "nbformat_minor": 2
}
