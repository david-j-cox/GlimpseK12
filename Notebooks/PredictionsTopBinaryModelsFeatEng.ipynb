{
 "cells": [
  {
   "cell_type": "code",
   "execution_count": 4,
   "metadata": {},
   "outputs": [
    {
     "name": "stdout",
     "output_type": "stream",
     "text": [
      "/Users/dcox/Dropbox/InsightFellowship/Glimpse/Redacted & Subset Data\n"
     ]
    }
   ],
   "source": [
    "cd /Users/dcox/Dropbox/InsightFellowship/Glimpse/Redacted & Subset Data/"
   ]
  },
  {
   "cell_type": "markdown",
   "metadata": {},
   "source": [
    "## Standard setup"
   ]
  },
  {
   "cell_type": "code",
   "execution_count": 2,
   "metadata": {},
   "outputs": [],
   "source": [
    "import numpy as np\n",
    "import pandas as pd\n",
    "import matplotlib.pyplot as plt\n",
    "from sklearn.model_selection import train_test_split\n",
    "from sklearn import metrics\n",
    "from sklearn.metrics import f1_score\n",
    "import seaborn as sns\n",
    "import csv"
   ]
  },
  {
   "cell_type": "code",
   "execution_count": 5,
   "metadata": {},
   "outputs": [],
   "source": [
    "most_feats_bin = pd.read_csv('most_feats_binary_feateng.csv')"
   ]
  },
  {
   "cell_type": "code",
   "execution_count": 6,
   "metadata": {},
   "outputs": [],
   "source": [
    "mostFeats_MathOutc = most_feats_bin['ScantronMathPostTestBenchmarks']\n",
    "mostFeats_ReadOutc = most_feats_bin['ScantronReadingPostTestBenchmarks']\n",
    "mostFeats_pred = most_feats_bin.drop(['ScantronMathPostTestBenchmarks', 'ScantronReadingPostTestBenchmarks'], axis=1)"
   ]
  },
  {
   "cell_type": "code",
   "execution_count": 7,
   "metadata": {},
   "outputs": [],
   "source": [
    "# Most features df\n",
    "mostFeats_predCols = list(mostFeats_pred)\n",
    "mostFeats_predCodes = []\n",
    "for i in mostFeats_predCols:\n",
    "    mostFeats_pred[i] = mostFeats_pred[i].astype('category')\n",
    "    d = dict(enumerate(mostFeats_pred[i].cat.categories))\n",
    "    mostFeats_predCodes.append(d)\n",
    "    mostFeats_pred[i] = mostFeats_pred[i].astype('category')\n",
    "    mostFeats_pred[i] = mostFeats_pred[i].cat.codes"
   ]
  },
  {
   "cell_type": "code",
   "execution_count": 34,
   "metadata": {},
   "outputs": [],
   "source": [
    "def metrics_display(y_test, y_pred):\n",
    "    '''Prints basic metrics for initial model assessment.'''\n",
    "    print('Accuracy:', metrics.accuracy_score(y_test, y_pred))  \n",
    "    print('Precision:', metrics.precision_score(y_test, y_pred))  \n",
    "    print('Recall:', metrics.recall_score(y_test, y_pred))\n",
    "    print('ROC_AUC:,', metrics.roc_auc_score(y_test, y_pred))\n",
    "    print('F1:', f1_score(y_test, y_pred))\n",
    "\n",
    "def plot_cm(y_test, y_pred):\n",
    "    cm = metrics.confusion_matrix(y_test, y_pred)\n",
    "    df_cm = pd.DataFrame(cm, columns=np.unique(y_test), index = np.unique(y_test))\n",
    "    df_cm.index.name = 'Actual'\n",
    "    df_cm.columns.name = 'Predicted'\n",
    "    plt.subplots(figsize=(10, 7))\n",
    "    sns.heatmap(df_cm, cmap=\"Blues\", annot=True,annot_kws={\"size\": 16}, fmt='g')"
   ]
  },
  {
   "cell_type": "markdown",
   "metadata": {},
   "source": [
    "# Create a list of all student-teacher combinations for predictions. "
   ]
  },
  {
   "cell_type": "code",
   "execution_count": 9,
   "metadata": {},
   "outputs": [
    {
     "name": "stdout",
     "output_type": "stream",
     "text": [
      "Number of Unique Teachers: 278\n"
     ]
    }
   ],
   "source": [
    "teachers = mostFeats_pred['TNUM'].unique()\n",
    "print('Number of Unique Teachers:', len(teachers))"
   ]
  },
  {
   "cell_type": "code",
   "execution_count": 10,
   "metadata": {},
   "outputs": [
    {
     "name": "stdout",
     "output_type": "stream",
     "text": [
      "Number of Unique Grades: 6\n"
     ]
    }
   ],
   "source": [
    "grade = mostFeats_pred['GR'].unique()\n",
    "print('Number of Unique Grades:', len(grade))"
   ]
  },
  {
   "cell_type": "code",
   "execution_count": 11,
   "metadata": {},
   "outputs": [],
   "source": [
    "# Only showing grades 3-4 for the demo. \n",
    "student3 = mostFeats_pred.loc[mostFeats_pred['GR'] == 3]\n",
    "student4 = mostFeats_pred.loc[mostFeats_pred['GR'] == 4]\n",
    "student5 = mostFeats_pred.loc[mostFeats_pred['GR'] == 5]"
   ]
  },
  {
   "cell_type": "code",
   "execution_count": 12,
   "metadata": {},
   "outputs": [],
   "source": [
    "teach3 = student3['TNUM'].unique()\n",
    "teach4 = student4['TNUM'].unique()\n",
    "teach5 = student5['TNUM'].unique()\n",
    "math_tool = student3['IXLMathUser'].unique()\n",
    "read_tool = student3['IXLReadingUser'].unique()"
   ]
  },
  {
   "cell_type": "code",
   "execution_count": 13,
   "metadata": {},
   "outputs": [],
   "source": [
    "# Function to create combinations. \n",
    "def create_combos(teacher, math_tool, reading_tool, student, df_to_append):    \n",
    "    for i in teacher:\n",
    "        for j in math_tool:\n",
    "            for k in reading_tool:\n",
    "                data = student.copy()\n",
    "                data.GR = 3\n",
    "                data.TNUM = i\n",
    "                data.MathTool = j\n",
    "                data.ReadTool = k\n",
    "                df_to_append.append(data)"
   ]
  },
  {
   "cell_type": "code",
   "execution_count": 16,
   "metadata": {},
   "outputs": [
    {
     "name": "stdout",
     "output_type": "stream",
     "text": [
      "Length: 8300436\n",
      "Expected Length: 8300436\n"
     ]
    }
   ],
   "source": [
    "# Generate df for predictions for all third and fourth graders who might stay in in the same grade or advance to the next grade. \n",
    "all_pred = []\n",
    "create_combos(teach3, math_tool, read_tool, student3, all_pred)\n",
    "create_combos(teach4, math_tool, read_tool, student3, all_pred)\n",
    "create_combos(teach5, math_tool, read_tool, student3, all_pred)\n",
    "create_combos(teach4, math_tool, read_tool, student4, all_pred)\n",
    "create_combos(teach5, math_tool, read_tool, student4, all_pred)\n",
    "all_pred = pd.concat(all_pred)\n",
    "print(\"Length:\", len(all_pred))\n",
    "print(\"Expected Length:\", len(student3)*len(teach3)*4 + len(student3)*len(teach4)*4 + len(student3)*len(teach5)*4 +\n",
    "     len(student4)*len(teach4)*4 + len(student4)*len(teach5)*4)"
   ]
  },
  {
   "cell_type": "markdown",
   "metadata": {},
   "source": [
    "# Binary Variable Predictions:\n",
    "## The top model came via Random Forest using the most features dataset with the engineered feature of pre-to-mid-test change. "
   ]
  },
  {
   "cell_type": "markdown",
   "metadata": {},
   "source": [
    "## Math outcomes. "
   ]
  },
  {
   "cell_type": "code",
   "execution_count": 19,
   "metadata": {},
   "outputs": [
    {
     "name": "stdout",
     "output_type": "stream",
     "text": [
      "Max Accuracy: 0.93\n",
      "Max F1: 0.93\n"
     ]
    },
    {
     "data": {
      "image/png": "[encoded data removed]",
      "text/plain": [
       "<Figure size 432x288 with 1 Axes>"
      ]
     },
     "metadata": {
      "needs_background": "light"
     },
     "output_type": "display_data"
    }
   ],
   "source": [
    "from sklearn.ensemble import RandomForestClassifier\n",
    "# Math outcomes. \n",
    "X_train, X_test, y_train, y_test = train_test_split(mostFeats_pred, mostFeats_MathOutc, test_size=0.20, random_state = 649)\n",
    "acc_scores = []\n",
    "f1_scores = []\n",
    "nEst_range = [10, 50, 100, 1000]\n",
    "depth_range = [2, 5, 10, 100]\n",
    "for i in nEst_range:\n",
    "    for k in depth_range:\n",
    "        classifier = RandomForestClassifier(n_estimators=i, max_depth=k)\n",
    "        classifier.fit(X_train, y_train)\n",
    "        pred_train= classifier.predict(X_train)\n",
    "        pred_test= classifier.predict(X_test)\n",
    "        acc_val = metrics.accuracy_score(y_test, pred_test)\n",
    "        acc_scores.append(acc_val)\n",
    "        f1_val = f1_score(y_test, pred_test)\n",
    "        f1_scores.append(f1_val)\n",
    "plt.plot(acc_scores, marker='o', color='black')\n",
    "plt.plot(f1_scores, marker='o', color='blue')\n",
    "print(\"Max Accuracy:\", round(max(acc_scores), 2))\n",
    "print('Max F1:', round(max(f1_scores), 2))"
   ]
  },
  {
   "cell_type": "markdown",
   "metadata": {},
   "source": [
    "#### Optimal n_est=1000 and max_depth=100. Create model using those hyperparams. "
   ]
  },
  {
   "cell_type": "code",
   "execution_count": 30,
   "metadata": {},
   "outputs": [
    {
     "name": "stdout",
     "output_type": "stream",
     "text": [
      "Accuracy: 0.9310467389372667\n",
      "Precision: 0.9719940253920837\n",
      "Recall: 0.8926611796982168\n",
      "ROC_AUC:, 0.9324980557288576\n",
      "F1: 0.9306399713979264\n"
     ]
    },
    {
     "data": {
      "image/png": "[encoded data removed]",
      "text/plain": [
       "<Figure size 504x504 with 2 Axes>"
      ]
     },
     "metadata": {
      "needs_background": "light"
     },
     "output_type": "display_data"
    }
   ],
   "source": [
    "# Make sure we identified the right number of neighbors. \n",
    "X_train, X_test, y_train, y_test = train_test_split(mostFeats_pred, mostFeats_MathOutc, test_size=0.20, random_state=649)\n",
    "classifier = RandomForestClassifier(n_estimators=1000, max_depth=100)\n",
    "classifier.fit(X_train, y_train)\n",
    "pred_train= classifier.predict(X_train)\n",
    "pred_test= classifier.predict(X_test)\n",
    "acc_val = metrics.accuracy_score(y_test, pred_test)\n",
    "f1_val = f1_score(y_test, pred_test)\n",
    "metrics_display(y_test, pred_test)\n",
    "plot_cm(y_test, pred_test)"
   ]
  },
  {
   "cell_type": "code",
   "execution_count": 21,
   "metadata": {},
   "outputs": [],
   "source": [
    "# Train final math model\n",
    "math_rf_final = classifier.fit(mostFeats_pred, mostFeats_MathOutc)"
   ]
  },
  {
   "cell_type": "code",
   "execution_count": 22,
   "metadata": {},
   "outputs": [],
   "source": [
    "# Fit model to prediction data. \n",
    "math_final_predict_bin = math_rf_final.predict(all_pred)"
   ]
  },
  {
   "cell_type": "markdown",
   "metadata": {},
   "source": [
    "# Reading outcomes. "
   ]
  },
  {
   "cell_type": "code",
   "execution_count": 31,
   "metadata": {},
   "outputs": [
    {
     "name": "stdout",
     "output_type": "stream",
     "text": [
      "Max Accuracy: 0.94\n",
      "Max F1: 0.96\n"
     ]
    },
    {
     "data": {
      "image/png": "[encoded data removed]",
      "text/plain": [
       "<Figure size 432x288 with 1 Axes>"
      ]
     },
     "metadata": {
      "needs_background": "light"
     },
     "output_type": "display_data"
    }
   ],
   "source": [
    "# Reading outcomes. \n",
    "X_train, X_test, y_train, y_test = train_test_split(mostFeats_pred, mostFeats_ReadOutc, test_size=0.20, random_state = 649)\n",
    "acc_scores = []\n",
    "f1_scores = []\n",
    "nEst_range = [10, 50, 100, 1000]\n",
    "depth_range = [2, 5, 10, 100]\n",
    "for i in nEst_range:\n",
    "    for k in depth_range:\n",
    "        classifier = RandomForestClassifier(n_estimators=i, max_depth=k)\n",
    "        classifier.fit(X_train, y_train)\n",
    "        pred_train= classifier.predict(X_train)\n",
    "        pred_test= classifier.predict(X_test)\n",
    "        acc_val = metrics.accuracy_score(y_test, pred_test)\n",
    "        acc_scores.append(acc_val)\n",
    "        f1_val = f1_score(y_test, pred_test)\n",
    "        f1_scores.append(f1_val)\n",
    "plt.plot(acc_scores, marker='o', color='black')\n",
    "plt.plot(f1_scores, marker='o', color='blue')\n",
    "print(\"Max Accuracy:\", round(max(acc_scores), 2))\n",
    "print('Max F1:', round(max(f1_scores), 2))"
   ]
  },
  {
   "cell_type": "markdown",
   "metadata": {},
   "source": [
    "#### Optimal n_est=1000 and max_depth=100. Create model using those hyperparams. "
   ]
  },
  {
   "cell_type": "code",
   "execution_count": 35,
   "metadata": {},
   "outputs": [
    {
     "name": "stdout",
     "output_type": "stream",
     "text": [
      "Accuracy: 0.941531899768971\n",
      "Precision: 0.9463207336166406\n",
      "Recall: 0.9793981481481482\n",
      "ROC_AUC:, 0.8978857611436991\n",
      "F1: 0.9625753611648277\n"
     ]
    },
    {
     "data": {
      "image/png": "[encoded data removed]",
      "text/plain": [
       "<Figure size 720x504 with 2 Axes>"
      ]
     },
     "metadata": {
      "needs_background": "light"
     },
     "output_type": "display_data"
    }
   ],
   "source": [
    "# Make sure we identified the right number of neighbors. \n",
    "X_train, X_test, y_train, y_test = train_test_split(mostFeats_pred, mostFeats_ReadOutc, test_size=0.20, random_state=649)\n",
    "classifier = RandomForestClassifier(n_estimators=1000, max_depth=100)\n",
    "classifier.fit(X_train, y_train)\n",
    "pred_train= classifier.predict(X_train)\n",
    "pred_test= classifier.predict(X_test)\n",
    "acc_val = metrics.accuracy_score(y_test, pred_test)\n",
    "f1_val = f1_score(y_test, pred_test)\n",
    "metrics_display(y_test, pred_test)\n",
    "plot_cm(y_test, pred_test)"
   ]
  },
  {
   "cell_type": "code",
   "execution_count": 36,
   "metadata": {},
   "outputs": [],
   "source": [
    "# Train final reading model\n",
    "read_rf_final = classifier.fit(mostFeats_pred, mostFeats_ReadOutc)"
   ]
  },
  {
   "cell_type": "code",
   "execution_count": 37,
   "metadata": {},
   "outputs": [],
   "source": [
    "# Fit model to prediction data. \n",
    "read_final_predict_bin = read_rf_final.predict(all_pred)"
   ]
  },
  {
   "cell_type": "markdown",
   "metadata": {},
   "source": [
    "# Append math and reading predictions to the dataframe. "
   ]
  },
  {
   "cell_type": "code",
   "execution_count": 38,
   "metadata": {},
   "outputs": [],
   "source": [
    "data_append = pd.read_csv('all_pred.csv')\n",
    "data_append['math_pred_bin'] = math_final_predict_bin\n",
    "data_append['read_pred_bin'] = read_final_predict_bin\n",
    "data_append.to_csv('all_pred.csv')"
   ]
  },
  {
   "cell_type": "code",
   "execution_count": 39,
   "metadata": {},
   "outputs": [
    {
     "name": "stdout",
     "output_type": "stream",
     "text": [
      "Length:  8300436 ['Unnamed: 0', 'TNUM', 'GR', 'GlimpsestudentId', 'IXLMathUser', 'IXLReadingUser', 'math_pred_cont', 'read_pred_cont', 'math_pred_bin', 'read_pred_bin']\n"
     ]
    }
   ],
   "source": [
    "print(\"Length: \", len(data_append), list(data_append))"
   ]
  },
  {
   "cell_type": "code",
   "execution_count": 41,
   "metadata": {},
   "outputs": [],
   "source": [
    "data_append = data_append.drop(['Unnamed: 0'], axis=1)"
   ]
  },
  {
   "cell_type": "code",
   "execution_count": 43,
   "metadata": {},
   "outputs": [],
   "source": [
    "data_append.to_csv('all_pred.csv')"
   ]
  }
 ],
 "metadata": {
  "kernelspec": {
   "display_name": "Python 3",
   "language": "python",
   "name": "python3"
  },
  "language_info": {
   "codemirror_mode": {
    "name": "ipython",
    "version": 3
   },
   "file_extension": ".py",
   "mimetype": "text/x-python",
   "name": "python",
   "nbconvert_exporter": "python",
   "pygments_lexer": "ipython3",
   "version": "3.7.4"
  }
 },
 "nbformat": 4,
 "nbformat_minor": 2
}
