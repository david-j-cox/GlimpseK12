{
 "cells": [
  {
   "cell_type": "code",
   "execution_count": 1,
   "metadata": {},
   "outputs": [
    {
     "name": "stdout",
     "output_type": "stream",
     "text": [
      "/Users/dcox/Dropbox/InsightFellowship/Glimpse/Redacted & Subset Data\n"
     ]
    }
   ],
   "source": [
    "cd /Users/dcox/Dropbox/InsightFellowship/Glimpse/Redacted & Subset Data/"
   ]
  },
  {
   "cell_type": "markdown",
   "metadata": {},
   "source": [
    "# Baseline models for Glimpse K12. "
   ]
  },
  {
   "cell_type": "code",
   "execution_count": 2,
   "metadata": {},
   "outputs": [],
   "source": [
    "import numpy as np\n",
    "import matplotlib\n",
    "import matplotlib.pyplot as plt\n",
    "import pandas as pd\n",
    "import seaborn as sns\n",
    "from sklearn import metrics\n",
    "from sklearn.metrics import r2_score\n",
    "from sklearn.model_selection import train_test_split\n",
    "from sklearn.metrics import precision_recall_curve\n",
    "from sklearn.metrics import f1_score, auc"
   ]
  },
  {
   "cell_type": "markdown",
   "metadata": {},
   "source": [
    "## Define functions. "
   ]
  },
  {
   "cell_type": "code",
   "execution_count": 3,
   "metadata": {},
   "outputs": [],
   "source": [
    "def lin_metrics(x, y):\n",
    "    ''' Prints four common metrics for evaluating regression predictions. '''\n",
    "    print('Mean Absolute Error:', round(metrics.mean_absolute_error(x, y), 4))\n",
    "    print('Mean Squared Error:', round(metrics.mean_squared_error(x, y), 4))\n",
    "    print('Root Mean Squared Error:', round(np.sqrt(metrics.mean_squared_error(x, y)), 4))\n",
    "    print('R^2 Math:,', round(r2_score(y_test, y_pred), 4))\n",
    "\n",
    "def bin_metrics(x, y):\n",
    "    '''Prints four common metrics for evaluating classification predictions.'''\n",
    "    print('Accuracy:', round(metrics.accuracy_score(x, y), 4))\n",
    "    print('Precision:', round(metrics.precision_score(x, y), 4))\n",
    "    print('Recall:', round(recall_score(x, y), 4))\n",
    "    print('ROC_AUC:,', round(roc_auc_score(x, y), 4))\n",
    "    print('F1:', round(f1_score(x, y), 4))\n",
    "\n",
    "def plot_scatter(x, y, xmin=None, xmax=None, ymin=None, ymax=None):\n",
    "    '''Plots simple scatter plot of two datasets. We'll use to plot scatter of residuals.'''\n",
    "    matplotlib.rc('figure', figsize=(7, 7))\n",
    "    plt.scatter(y_test, y_pred, cmap='viridis', alpha=0.1)\n",
    "    plt.xlim(xmin, xmax)\n",
    "    plt.ylim(ymin, ymax)\n",
    "    plt.xlabel('Predicted', fontsize=20)\n",
    "    plt.ylabel('Observed', fontsize=20)\n",
    "    plt.xticks(fontsize=16)\n",
    "    plt.yticks(fontsize=16)\n",
    "    return plt.show()\n",
    "\n",
    "def plot_residuals(x, y):\n",
    "    '''Plot historgram of residuals.'''\n",
    "    residuals = x - y\n",
    "    plt.hist(residuals, bins=50, color='black')\n",
    "    plt.xlabel('Residual')\n",
    "    plt.ylabel('Num Observations')\n",
    "    plt.show()\n",
    "\n",
    "def plot_cm(x, y):\n",
    "    cm = confusion_matrix(x, y)\n",
    "    df_cm = pd.DataFrame(cm, columns=np.unique(x), index = np.unique(x))\n",
    "    df_cm.index.name = 'Actual'\n",
    "    df_cm.columns.name = 'Predicted'\n",
    "    sns.heatmap(df_cm, cmap=\"Blues\", annot=True,annot_kws={\"size\": 20}, fmt='g')# font size\n",
    "\n",
    "def plot_PR_curve(true, predicted):\n",
    "    precision, recall, thresholds = precision_recall_curve(true, predicted)\n",
    "    ns_probs = [0 for _ in range(len(true))]\n",
    "    lr_f1, lr_auc = f1_score(true, predicted), auc(recall, precision)\n",
    "    # summarize scores\n",
    "    print('Logistic: f1=%.2f auc=%.2f' % (lr_f1, lr_auc))\n",
    "    # plot the precision-recall curves\n",
    "    no_skill = len(true[true==1]) / len(true)\n",
    "    plt.plot([0, 1], [no_skill, no_skill], linestyle='--', label='No Skill')\n",
    "    plt.plot(recall, precision, marker='o', label='Logistic')\n",
    "    plt.xlabel('Recall')\n",
    "    plt.ylabel('Precision')\n",
    "    plt.legend()\n",
    "    plt.show()"
   ]
  },
  {
   "cell_type": "markdown",
   "metadata": {},
   "source": [
    "# Baseline models for dfs with continuous outcome variables = linear regression. "
   ]
  },
  {
   "cell_type": "markdown",
   "metadata": {},
   "source": [
    "### Read in the data"
   ]
  },
  {
   "cell_type": "code",
   "execution_count": null,
   "metadata": {},
   "outputs": [],
   "source": [
    "most_obs = pd.read_csv('most_obs_cont.csv')\n",
    "most_feats = pd.read_csv('most_feats_cont.csv')"
   ]
  },
  {
   "cell_type": "markdown",
   "metadata": {},
   "source": [
    "### Set up dfs for predictor and outcome variables "
   ]
  },
  {
   "cell_type": "code",
   "execution_count": null,
   "metadata": {},
   "outputs": [],
   "source": [
    "mostObs_MathOutc = most_obs['ScantronMathPostTest']\n",
    "mostObs_ReadOutc = most_obs['ScantronReadingPostTest']\n",
    "mostObs_pred = most_obs.drop(['ScantronMathPostTest', 'ScantronReadingPostTest'], axis=1)\n",
    "mostFeats_MathOutc = most_feats['ScantronMathPostTest']\n",
    "mostFeats_ReadOutc = most_feats['ScantronReadingPostTest']\n",
    "mostFeats_pred = most_feats.drop(['ScantronMathPostTest', 'ScantronReadingPostTest'], axis=1)"
   ]
  },
  {
   "cell_type": "markdown",
   "metadata": {},
   "source": [
    "#### Recode categorical strings with number labels and save those dictionaries"
   ]
  },
  {
   "cell_type": "code",
   "execution_count": null,
   "metadata": {},
   "outputs": [],
   "source": [
    "# Most observations df\n",
    "mostObs_predCols = list(mostObs_pred)\n",
    "mostObs_predCodes = []\n",
    "for i in mostObs_predCols:\n",
    "    mostObs_pred[i] = mostObs_pred[i].astype('category')\n",
    "    d = dict(enumerate(mostObs_pred[i].cat.categories))\n",
    "    mostObs_predCodes.append(d)\n",
    "    mostObs_pred[i] = mostObs_pred[i].astype('category')\n",
    "    mostObs_pred[i] = mostObs_pred[i].cat.codes\n",
    "\n",
    "# Most features df\n",
    "mostFeats_predCols = list(mostFeats_pred)\n",
    "mostFeats_predCodes = []\n",
    "for i in mostFeats_predCols:\n",
    "    mostFeats_pred[i] = mostFeats_pred[i].astype('category')\n",
    "    d = dict(enumerate(mostFeats_pred[i].cat.categories))\n",
    "    mostFeats_predCodes.append(d)\n",
    "    mostFeats_pred[i] = mostFeats_pred[i].astype('category')\n",
    "    mostFeats_pred[i] = mostFeats_pred[i].cat.codes"
   ]
  },
  {
   "cell_type": "markdown",
   "metadata": {},
   "source": [
    "### Predicting outcomes for using the 'most observations' df and linear regression baseline model. "
   ]
  },
  {
   "cell_type": "code",
   "execution_count": null,
   "metadata": {},
   "outputs": [],
   "source": [
    "from sklearn.linear_model import LinearRegression\n",
    "# Math outcomes. \n",
    "X_train, X_test, y_train, y_test = train_test_split(mostObs_pred, mostObs_MathOutc, test_size=0.20, random_state = 649)\n",
    "regressor = LinearRegression()\n",
    "regressor.fit(X_train, y_train)\n",
    "y_pred = regressor.predict(X_test)\n",
    "lin_metrics(y_test, y_pred)\n",
    "plot_scatter(y_pred, y_test, xmin=50, xmax=3500, ymin=0, ymax=3500)\n",
    "plot_residuals(y_test, y_pred)"
   ]
  },
  {
   "cell_type": "code",
   "execution_count": null,
   "metadata": {},
   "outputs": [],
   "source": [
    "# Reading outcomes. \n",
    "X_train, X_test, y_train, y_test = train_test_split(mostObs_pred, mostObs_ReadOutc, test_size=0.20, random_state = 649)\n",
    "regressor = LinearRegression()\n",
    "regressor.fit(X_train, y_train)\n",
    "y_pred = regressor.predict(X_test)\n",
    "lin_metrics(y_test, y_pred)\n",
    "plot_scatter(y_pred, y_test, xmin=50, xmax=3800, ymin=0, ymax=3800)\n",
    "plot_residuals(y_test, y_pred)"
   ]
  },
  {
   "cell_type": "markdown",
   "metadata": {},
   "source": [
    "### Predicting outcomes for using the 'most features' df. "
   ]
  },
  {
   "cell_type": "code",
   "execution_count": null,
   "metadata": {},
   "outputs": [],
   "source": [
    "# Math outcomes. \n",
    "X_train, X_test, y_train, y_test = train_test_split(mostFeats_pred, mostFeats_MathOutc, test_size=0.20, random_state = 649)\n",
    "regressor = LinearRegression()\n",
    "regressor.fit(X_train, y_train)\n",
    "y_pred = regressor.predict(X_test)\n",
    "lin_metrics(y_test, y_pred)\n",
    "plot_scatter(y_pred, y_test, xmin=1000, xmax=3500, ymin=1000, ymax=3500)\n",
    "plot_residuals(y_test, y_pred)"
   ]
  },
  {
   "cell_type": "code",
   "execution_count": null,
   "metadata": {},
   "outputs": [],
   "source": [
    "# Reading outcomes. \n",
    "X_train, X_test, y_train, y_test = train_test_split(mostFeats_pred, mostFeats_ReadOutc, test_size=0.20, random_state = 649)\n",
    "regressor = LinearRegression()\n",
    "regressor.fit(X_train, y_train)\n",
    "y_pred = regressor.predict(X_test)\n",
    "lin_metrics(y_test, y_pred)\n",
    "plot_scatter(y_pred, y_test, xmin=1500, xmax=3800, ymin=1500, ymax=3800)\n",
    "plot_residuals(y_test, y_pred)"
   ]
  },
  {
   "cell_type": "markdown",
   "metadata": {},
   "source": [
    "# Baseline models for dfs with binary outcome variables = logistics regression. "
   ]
  },
  {
   "cell_type": "markdown",
   "metadata": {},
   "source": [
    "### Read in data"
   ]
  },
  {
   "cell_type": "code",
   "execution_count": null,
   "metadata": {},
   "outputs": [],
   "source": [
    "most_obs = pd.read_csv('most_obs_binary.csv')\n",
    "most_feats = pd.read_csv('most_feats_binary.csv')"
   ]
  },
  {
   "cell_type": "code",
   "execution_count": null,
   "metadata": {},
   "outputs": [],
   "source": [
    "mostObs_MathOutc = most_obs['ScantronMathPostTestBenchmarks']\n",
    "mostObs_ReadOutc = most_obs['ScantronReadingPostTestBenchmarks']\n",
    "mostObs_pred = most_obs.drop(['ScantronMathPostTestBenchmarks', 'ScantronReadingPostTestBenchmarks'], axis=1)\n",
    "mostFeats_MathOutc = most_feats['ScantronMathPostTestBenchmarks']\n",
    "mostFeats_ReadOutc = most_feats['ScantronReadingPostTestBenchmarks']\n",
    "mostFeats_pred = most_feats.drop(['ScantronMathPostTestBenchmarks', 'ScantronReadingPostTestBenchmarks'], axis=1)"
   ]
  },
  {
   "cell_type": "code",
   "execution_count": null,
   "metadata": {},
   "outputs": [],
   "source": [
    "# Most observations df\n",
    "mostObs_predCols = list(mostObs_pred)\n",
    "mostObs_predCodes = []\n",
    "for i in mostObs_predCols:\n",
    "    mostObs_pred[i] = mostObs_pred[i].astype('category')\n",
    "    d = dict(enumerate(mostObs_pred[i].cat.categories))\n",
    "    mostObs_predCodes.append(d)\n",
    "    mostObs_pred[i] = mostObs_pred[i].astype('category')\n",
    "    mostObs_pred[i] = mostObs_pred[i].cat.codes\n",
    "\n",
    "# Most features df\n",
    "mostFeats_predCols = list(mostFeats_pred)\n",
    "mostFeats_predCodes = []\n",
    "for i in mostFeats_predCols:\n",
    "    mostFeats_pred[i] = mostFeats_pred[i].astype('category')\n",
    "    d = dict(enumerate(mostFeats_pred[i].cat.categories))\n",
    "    mostFeats_predCodes.append(d)\n",
    "    mostFeats_pred[i] = mostFeats_pred[i].astype('category')\n",
    "    mostFeats_pred[i] = mostFeats_pred[i].cat.codes"
   ]
  },
  {
   "cell_type": "code",
   "execution_count": null,
   "metadata": {},
   "outputs": [],
   "source": [
    "from sklearn.linear_model import LogisticRegression\n",
    "from sklearn.metrics import accuracy_score, f1_score, precision_score, recall_score, roc_auc_score, confusion_matrix"
   ]
  },
  {
   "cell_type": "markdown",
   "metadata": {},
   "source": [
    "### Predicting outcomes for the 'most observations ' df. "
   ]
  },
  {
   "cell_type": "code",
   "execution_count": null,
   "metadata": {},
   "outputs": [],
   "source": [
    "# Math outcomes. \n",
    "X_train, X_test, y_train, y_test = train_test_split(mostObs_pred, mostObs_MathOutc, test_size=0.20, random_state = 649)\n",
    "classifier = LogisticRegression(solver='liblinear')\n",
    "classifier.fit(X_train, y_train)\n",
    "y_pred = classifier.predict(X_test)\n",
    "bin_metrics(y_test, y_pred)\n",
    "plot_PR_curve(y_test, y_pred)\n",
    "plot_cm(y_test, y_pred)"
   ]
  },
  {
   "cell_type": "code",
   "execution_count": null,
   "metadata": {},
   "outputs": [],
   "source": [
    "# Read outcomes. \n",
    "X_train, X_test, y_train, y_test = train_test_split(mostObs_pred, mostObs_ReadOutc, test_size=0.20, random_state = 649)\n",
    "classifier = LogisticRegression(solver='liblinear')\n",
    "classifier.fit(X_train, y_train)\n",
    "y_pred = classifier.predict(X_test)\n",
    "bin_metrics(y_test, y_pred)\n",
    "plot_cm(y_test, y_pred)\n",
    "plot_PR_curve(y_test, y_pred)"
   ]
  },
  {
   "cell_type": "markdown",
   "metadata": {},
   "source": [
    "## Predicting outcomes for the 'most features' df. "
   ]
  },
  {
   "cell_type": "code",
   "execution_count": null,
   "metadata": {},
   "outputs": [],
   "source": [
    "# Math outcomes. \n",
    "X_train, X_test, y_train, y_test = train_test_split(mostFeats_pred, mostFeats_MathOutc, test_size=0.20, random_state = 649)\n",
    "classifier = LogisticRegression(solver='liblinear')\n",
    "classifier.fit(X_train, y_train)\n",
    "y_pred = classifier.predict(X_test)\n",
    "bin_metrics(y_test, y_pred)\n",
    "plot_cm(y_test, y_pred)\n",
    "plot_PR_curve(y_test, y_pred)"
   ]
  },
  {
   "cell_type": "code",
   "execution_count": null,
   "metadata": {},
   "outputs": [],
   "source": [
    "# Reading outcomes. \n",
    "X_train, X_test, y_train, y_test = train_test_split(mostFeats_pred, mostFeats_ReadOutc, test_size=0.20, random_state = 649)\n",
    "classifier = LogisticRegression(solver='liblinear')\n",
    "classifier.fit(X_train, y_train)\n",
    "y_pred = classifier.predict(X_test)\n",
    "bin_metrics(y_test, y_pred)\n",
    "plot_cm(y_test, y_pred)\n",
    "plot_PR_curve(y_test, y_pred)"
   ]
  }
 ],
 "metadata": {
  "kernelspec": {
   "display_name": "Python 3",
   "language": "python",
   "name": "python3"
  },
  "language_info": {
   "codemirror_mode": {
    "name": "ipython",
    "version": 3
   },
   "file_extension": ".py",
   "mimetype": "text/x-python",
   "name": "python",
   "nbconvert_exporter": "python",
   "pygments_lexer": "ipython3",
   "version": "3.7.4"
  }
 },
 "nbformat": 4,
 "nbformat_minor": 2
}
