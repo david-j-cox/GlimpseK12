{
 "cells": [
  {
   "cell_type": "code",
   "execution_count": 1,
   "metadata": {},
   "outputs": [
    {
     "name": "stdout",
     "output_type": "stream",
     "text": [
      "/Users/dcox/Dropbox/InsightFellowship/Glimpse\n"
     ]
    }
   ],
   "source": [
    "cd /Users/dcox/Dropbox/InsightFellowship/Glimpse/"
   ]
  },
  {
   "cell_type": "markdown",
   "metadata": {},
   "source": [
    "## Standard setup"
   ]
  },
  {
   "cell_type": "code",
   "execution_count": 16,
   "metadata": {},
   "outputs": [],
   "source": [
    "import numpy as np\n",
    "import pandas as pd\n",
    "import matplotlib.pyplot as plt\n",
    "from sklearn.model_selection import train_test_split\n",
    "from sklearn import metrics\n",
    "from sklearn.metrics import f1_score\n",
    "import seaborn as sns\n",
    "import csv"
   ]
  },
  {
   "cell_type": "code",
   "execution_count": 3,
   "metadata": {},
   "outputs": [],
   "source": [
    "most_feats_bin = pd.read_csv('most_feats_binary_feateng.csv')"
   ]
  },
  {
   "cell_type": "code",
   "execution_count": 4,
   "metadata": {},
   "outputs": [],
   "source": [
    "mostFeats_MathOutc = most_feats_bin['ScantronMathPostTestBenchmarks']\n",
    "mostFeats_ReadOutc = most_feats_bin['ScantronReadingPostTestBenchmarks']\n",
    "mostFeats_pred = most_feats_bin.drop(['ScantronMathPostTestBenchmarks', 'ScantronReadingPostTestBenchmarks'], axis=1)"
   ]
  },
  {
   "cell_type": "code",
   "execution_count": 5,
   "metadata": {},
   "outputs": [],
   "source": [
    "# Most features df\n",
    "mostFeats_predCols = list(mostFeats_pred)\n",
    "mostFeats_predCodes = []\n",
    "for i in mostFeats_predCols:\n",
    "    mostFeats_pred[i] = mostFeats_pred[i].astype('category')\n",
    "    d = dict(enumerate(mostFeats_pred[i].cat.categories))\n",
    "    mostFeats_predCodes.append(d)\n",
    "    mostFeats_pred[i] = mostFeats_pred[i].astype('category')\n",
    "    mostFeats_pred[i] = mostFeats_pred[i].cat.codes"
   ]
  },
  {
   "cell_type": "code",
   "execution_count": 14,
   "metadata": {},
   "outputs": [],
   "source": [
    "def metrics_display(y_test, y_pred):\n",
    "    '''Prints basic metrics for initial model assessment.'''\n",
    "    print('Accuracy:', metrics.accuracy_score(y_test, y_pred))  \n",
    "    print('Precision:', metrics.precision_score(y_test, y_pred))  \n",
    "    print('Recall:', metrics.recall_score(y_test, y_pred))\n",
    "    print('ROC_AUC:,', metrics.roc_auc_score(y_test, y_pred))\n",
    "    print('F1:', f1_score(y_test, y_pred))\n",
    "\n",
    "def plot_cm(y_test, y_pred):\n",
    "    cm = metrics.confusion_matrix(y_test, y_pred)\n",
    "    df_cm = pd.DataFrame(cm, columns=np.unique(y_test), index = np.unique(y_test))\n",
    "    df_cm.index.name = 'Actual'\n",
    "    df_cm.columns.name = 'Predicted'\n",
    "    sns.heatmap(df_cm, cmap=\"Blues\", annot=True,annot_kws={\"size\": 16}, fmt='g')# font size"
   ]
  },
  {
   "cell_type": "markdown",
   "metadata": {},
   "source": [
    "# Create a list of all student-teacher combinations for predictions. "
   ]
  },
  {
   "cell_type": "code",
   "execution_count": 7,
   "metadata": {},
   "outputs": [
    {
     "name": "stdout",
     "output_type": "stream",
     "text": [
      "Number of Unique Teachers: 278\n"
     ]
    }
   ],
   "source": [
    "teachers = mostFeats_pred['TNUM'].unique()\n",
    "print('Number of Unique Teachers:', len(teachers))"
   ]
  },
  {
   "cell_type": "code",
   "execution_count": 8,
   "metadata": {},
   "outputs": [
    {
     "name": "stdout",
     "output_type": "stream",
     "text": [
      "Number of Unique Grades: 6\n"
     ]
    }
   ],
   "source": [
    "grade = mostFeats_pred['GR'].unique()\n",
    "print('Number of Unique Grades:', len(grade))"
   ]
  },
  {
   "cell_type": "code",
   "execution_count": 9,
   "metadata": {},
   "outputs": [],
   "source": [
    "# Only showing grades 3-4 for the demo. \n",
    "student3 = mostFeats_pred.loc[mostFeats_pred['GR'] == 3]\n",
    "student4 = mostFeats_pred.loc[mostFeats_pred['GR'] == 4]\n",
    "student5 = mostFeats_pred.loc[mostFeats_pred['GR'] == 5]"
   ]
  },
  {
   "cell_type": "code",
   "execution_count": 10,
   "metadata": {},
   "outputs": [],
   "source": [
    "teach3 = student3['TNUM'].unique()\n",
    "teach4 = student4['TNUM'].unique()\n",
    "teach5 = student5['TNUM'].unique()"
   ]
  },
  {
   "cell_type": "code",
   "execution_count": 11,
   "metadata": {},
   "outputs": [
    {
     "name": "stdout",
     "output_type": "stream",
     "text": [
      "Length: 2075109\n",
      "Expected Length: 2075109\n"
     ]
    }
   ],
   "source": [
    "# Generate df for predictions for all third and fourth graders who might stay in in the same grade or advance to the next grade. \n",
    "all_pred = []\n",
    "for i in teach3:\n",
    "    data = student3.copy()\n",
    "    data.GR = 3\n",
    "    data.TNUM = i\n",
    "    all_pred.append(data)\n",
    "for i in teach4:\n",
    "    data = student3.copy()\n",
    "    data.GR = 4\n",
    "    data.TNUM = i\n",
    "    all_pred.append(data)\n",
    "for i in teach5:\n",
    "    data = student3.copy()\n",
    "    data.GR = 5\n",
    "    data.TNUM = i\n",
    "    all_pred.append(data)\n",
    "for i in teach4:\n",
    "    data = student4.copy()\n",
    "    data.GR = 4\n",
    "    data.TNUM = i\n",
    "    all_pred.append(data)\n",
    "for i in teach5:\n",
    "    data = student4.copy()\n",
    "    data.GR = 5\n",
    "    data.TNUM = i\n",
    "    all_pred.append(data)\n",
    "all_pred = pd.concat(all_pred)\n",
    "print(\"Length:\", len(all_pred))\n",
    "print(\"Expected Length:\", len(student3)*len(teach3) + len(student3)*len(teach4) + len(student3)*len(teach5) +\n",
    "     len(student4)*len(teach4) + len(student4)*len(teach5))"
   ]
  },
  {
   "cell_type": "markdown",
   "metadata": {},
   "source": [
    "# Binary Variable Predictions:\n",
    "## The top model came via Random Forest using the most features dataset with the engineered feature of pre-to-mid-test change. "
   ]
  },
  {
   "cell_type": "markdown",
   "metadata": {},
   "source": [
    "## Math outcomes. "
   ]
  },
  {
   "cell_type": "code",
   "execution_count": 12,
   "metadata": {},
   "outputs": [
    {
     "name": "stdout",
     "output_type": "stream",
     "text": [
      "Max Accuracy: 0.93\n",
      "Max F1: 0.93\n"
     ]
    },
    {
     "data": {
      "image/png": "[encoded data removed]",
      "text/plain": [
       "<Figure size 432x288 with 1 Axes>"
      ]
     },
     "metadata": {
      "needs_background": "light"
     },
     "output_type": "display_data"
    }
   ],
   "source": [
    "from sklearn.ensemble import RandomForestClassifier\n",
    "# Math outcomes. \n",
    "X_train, X_test, y_train, y_test = train_test_split(mostFeats_pred, mostFeats_MathOutc, test_size=0.20, random_state = 649)\n",
    "acc_scores = []\n",
    "f1_scores = []\n",
    "nEst_range = [10, 50, 100, 1000]\n",
    "depth_range = [2, 5, 10, 100]\n",
    "for i in nEst_range:\n",
    "    for k in depth_range:\n",
    "        classifier = RandomForestClassifier(n_estimators=i, max_depth=k)\n",
    "        classifier.fit(X_train, y_train)\n",
    "        pred_train= classifier.predict(X_train)\n",
    "        pred_test= classifier.predict(X_test)\n",
    "        acc_val = metrics.accuracy_score(y_test, pred_test)\n",
    "        acc_scores.append(acc_val)\n",
    "        f1_val = f1_score(y_test, pred_test)\n",
    "        f1_scores.append(f1_val)\n",
    "plt.plot(acc_scores, marker='o', color='black')\n",
    "plt.plot(f1_scores, marker='o', color='blue')\n",
    "print(\"Max Accuracy:\", round(max(acc_scores), 2))\n",
    "print('Max F1:', round(max(f1_scores), 2))"
   ]
  },
  {
   "cell_type": "markdown",
   "metadata": {},
   "source": [
    "#### Optimal n_est=1000 and max_depth=100. Create model using those hyperparams. "
   ]
  },
  {
   "cell_type": "code",
   "execution_count": 17,
   "metadata": {},
   "outputs": [
    {
     "name": "stdout",
     "output_type": "stream",
     "text": [
      "Accuracy: 0.9322907410698419\n",
      "Precision: 0.9752530933633295\n",
      "Recall: 0.8919753086419753\n",
      "ROC_AUC:, 0.9338150242951668\n",
      "F1: 0.9317571198280494\n"
     ]
    },
    {
     "data": {
      "image/png": "[encoded data removed]",
      "text/plain": [
       "<Figure size 432x288 with 2 Axes>"
      ]
     },
     "metadata": {
      "needs_background": "light"
     },
     "output_type": "display_data"
    }
   ],
   "source": [
    "# Make sure we identified the right number of neighbors. \n",
    "X_train, X_test, y_train, y_test = train_test_split(mostFeats_pred, mostFeats_MathOutc, test_size=0.20, random_state=649)\n",
    "classifier = RandomForestClassifier(n_estimators=1000, max_depth=100)\n",
    "classifier.fit(X_train, y_train)\n",
    "pred_train= classifier.predict(X_train)\n",
    "pred_test= classifier.predict(X_test)\n",
    "acc_val = metrics.accuracy_score(y_test, pred_test)\n",
    "f1_val = f1_score(y_test, pred_test)\n",
    "metrics_display(y_test, pred_test)\n",
    "plot_cm(y_test, pred_test)"
   ]
  },
  {
   "cell_type": "code",
   "execution_count": 18,
   "metadata": {},
   "outputs": [],
   "source": [
    "# Train final math model\n",
    "math_rf_final = classifier.fit(mostFeats_pred, mostFeats_MathOutc)"
   ]
  },
  {
   "cell_type": "code",
   "execution_count": 19,
   "metadata": {},
   "outputs": [],
   "source": [
    "# Fit model to prediction data. \n",
    "math_final_predict_bin = math_rf_final.predict(all_pred)"
   ]
  },
  {
   "cell_type": "markdown",
   "metadata": {},
   "source": [
    "# Reading outcomes. "
   ]
  },
  {
   "cell_type": "code",
   "execution_count": 20,
   "metadata": {},
   "outputs": [
    {
     "name": "stdout",
     "output_type": "stream",
     "text": [
      "Max Accuracy: 0.94\n",
      "Max F1: 0.96\n"
     ]
    },
    {
     "data": {
      "image/png": "[encoded data removed]",
      "text/plain": [
       "<Figure size 432x288 with 1 Axes>"
      ]
     },
     "metadata": {
      "needs_background": "light"
     },
     "output_type": "display_data"
    }
   ],
   "source": [
    "# Reading outcomes. \n",
    "X_train, X_test, y_train, y_test = train_test_split(mostFeats_pred, mostFeats_ReadOutc, test_size=0.20, random_state = 649)\n",
    "acc_scores = []\n",
    "f1_scores = []\n",
    "nEst_range = [10, 50, 100, 1000]\n",
    "depth_range = [2, 5, 10, 100]\n",
    "for i in nEst_range:\n",
    "    for k in depth_range:\n",
    "        classifier = RandomForestClassifier(n_estimators=i, max_depth=k)\n",
    "        classifier.fit(X_train, y_train)\n",
    "        pred_train= classifier.predict(X_train)\n",
    "        pred_test= classifier.predict(X_test)\n",
    "        acc_val = metrics.accuracy_score(y_test, pred_test)\n",
    "        acc_scores.append(acc_val)\n",
    "        f1_val = f1_score(y_test, pred_test)\n",
    "        f1_scores.append(f1_val)\n",
    "plt.plot(acc_scores, marker='o', color='black')\n",
    "plt.plot(f1_scores, marker='o', color='blue')\n",
    "print(\"Max Accuracy:\", round(max(acc_scores), 2))\n",
    "print('Max F1:', round(max(f1_scores), 2))"
   ]
  },
  {
   "cell_type": "markdown",
   "metadata": {},
   "source": [
    "#### Optimal n_est=1000 and max_depth=100. Create model using those hyperparams. "
   ]
  },
  {
   "cell_type": "code",
   "execution_count": 21,
   "metadata": {},
   "outputs": [
    {
     "name": "stdout",
     "output_type": "stream",
     "text": [
      "Accuracy: 0.9424204727208104\n",
      "Precision: 0.9475806451612904\n",
      "Recall: 0.9791666666666666\n",
      "ROC_AUC:, 0.9000653532262177\n",
      "F1: 0.9631147540983607\n"
     ]
    },
    {
     "data": {
      "image/png": "[encoded data removed]",
      "text/plain": [
       "<Figure size 432x288 with 2 Axes>"
      ]
     },
     "metadata": {
      "needs_background": "light"
     },
     "output_type": "display_data"
    }
   ],
   "source": [
    "# Make sure we identified the right number of neighbors. \n",
    "X_train, X_test, y_train, y_test = train_test_split(mostFeats_pred, mostFeats_ReadOutc, test_size=0.20, random_state=649)\n",
    "classifier = RandomForestClassifier(n_estimators=1000, max_depth=100)\n",
    "classifier.fit(X_train, y_train)\n",
    "pred_train= classifier.predict(X_train)\n",
    "pred_test= classifier.predict(X_test)\n",
    "acc_val = metrics.accuracy_score(y_test, pred_test)\n",
    "f1_val = f1_score(y_test, pred_test)\n",
    "metrics_display(y_test, pred_test)\n",
    "plot_cm(y_test, pred_test)"
   ]
  },
  {
   "cell_type": "code",
   "execution_count": 22,
   "metadata": {},
   "outputs": [],
   "source": [
    "# Train final reading model\n",
    "read_rf_final = classifier.fit(mostFeats_pred, mostFeats_ReadOutc)"
   ]
  },
  {
   "cell_type": "code",
   "execution_count": 23,
   "metadata": {},
   "outputs": [],
   "source": [
    "# Fit model to prediction data. \n",
    "read_final_predict_bin = read_rf_final.predict(all_pred)"
   ]
  },
  {
   "cell_type": "markdown",
   "metadata": {},
   "source": [
    "# Append math and reading predictions to the dataframe. "
   ]
  },
  {
   "cell_type": "code",
   "execution_count": 26,
   "metadata": {},
   "outputs": [],
   "source": [
    "data_append = pd.read_csv('all_pred.csv')\n",
    "data_append['math_pred_bin'] = math_final_predict_bin\n",
    "data_append['read_pred_bin'] = read_final_predict_bin\n",
    "data_append.to_csv('all_pred.csv')"
   ]
  }
 ],
 "metadata": {
  "kernelspec": {
   "display_name": "Python 3",
   "language": "python",
   "name": "python3"
  },
  "language_info": {
   "codemirror_mode": {
    "name": "ipython",
    "version": 3
   },
   "file_extension": ".py",
   "mimetype": "text/x-python",
   "name": "python",
   "nbconvert_exporter": "python",
   "pygments_lexer": "ipython3",
   "version": "3.7.5"
  }
 },
 "nbformat": 4,
 "nbformat_minor": 2
}
