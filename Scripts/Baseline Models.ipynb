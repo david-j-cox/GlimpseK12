{
 "cells": [
  {
   "cell_type": "markdown",
   "metadata": {},
   "source": [
    "# Baseline models for Glimpse K12. "
   ]
  },
  {
   "cell_type": "code",
   "execution_count": 1,
   "metadata": {},
   "outputs": [],
   "source": [
    "import numpy as np\n",
    "import matplotlib as plt\n",
    "import pandas as pd"
   ]
  },
  {
   "cell_type": "markdown",
   "metadata": {},
   "source": [
    "# Baseline models for dfs with continuous outcome variables = linear regression. "
   ]
  },
  {
   "cell_type": "markdown",
   "metadata": {},
   "source": [
    "### Read in the data"
   ]
  },
  {
   "cell_type": "code",
   "execution_count": 6,
   "metadata": {},
   "outputs": [],
   "source": [
    "most_obs = pd.read_csv('most_obs_cont.csv')\n",
    "most_feats = pd.read_csv('most_feats_cont.csv')"
   ]
  },
  {
   "cell_type": "markdown",
   "metadata": {},
   "source": [
    "### Set up dfs for predictor and outcome variables "
   ]
  },
  {
   "cell_type": "code",
   "execution_count": 7,
   "metadata": {},
   "outputs": [],
   "source": [
    "mostObs_MathOutc = most_obs['ScantronMathPostTest']\n",
    "mostObs_ReadOutc = most_obs['ScantronReadingPostTest']\n",
    "mostObs_pred = most_obs.drop(['ScantronMathPostTest', 'ScantronReadingPostTest'], axis=1)\n",
    "mostFeats_MathOutc = most_feats['ScantronMathPostTest']\n",
    "mostFeats_ReadOutc = most_feats['ScantronReadingPostTest']\n",
    "mostFeats_pred = most_feats.drop(['ScantronMathPostTest', 'ScantronReadingPostTest'], axis=1)"
   ]
  },
  {
   "cell_type": "markdown",
   "metadata": {},
   "source": [
    "### Recode categorical strings with number labels and save those dictionaries"
   ]
  },
  {
   "cell_type": "code",
   "execution_count": 8,
   "metadata": {},
   "outputs": [],
   "source": [
    "# Most observations df\n",
    "mostObs_predCols = list(mostObs_pred)\n",
    "mostObs_predCodes = []\n",
    "for i in mostObs_predCols:\n",
    "    mostObs_pred[i] = mostObs_pred[i].astype('category')\n",
    "    d = dict(enumerate(mostObs_pred[i].cat.categories))\n",
    "    mostObs_predCodes.append(d)\n",
    "    mostObs_pred[i] = mostObs_pred[i].astype('category')\n",
    "    mostObs_pred[i] = mostObs_pred[i].cat.codes\n",
    "\n",
    "# Most features df\n",
    "mostFeats_predCols = list(mostFeats_pred)\n",
    "mostFeats_predCodes = []\n",
    "for i in mostFeats_predCols:\n",
    "    mostFeats_pred[i] = mostFeats_pred[i].astype('category')\n",
    "    d = dict(enumerate(mostFeats_pred[i].cat.categories))\n",
    "    mostFeats_predCodes.append(d)\n",
    "    mostFeats_pred[i] = mostFeats_pred[i].astype('category')\n",
    "    mostFeats_pred[i] = mostFeats_pred[i].cat.codes"
   ]
  },
  {
   "cell_type": "markdown",
   "metadata": {},
   "source": [
    "### Split dataframes into training and test sets and fit linear regression model to each continuous variable. "
   ]
  },
  {
   "cell_type": "code",
   "execution_count": 9,
   "metadata": {},
   "outputs": [],
   "source": [
    "from sklearn.model_selection import train_test_split\n",
    "from sklearn.linear_model import LinearRegression\n",
    "from sklearn import metrics\n",
    "from sklearn.metrics import r2_score"
   ]
  },
  {
   "cell_type": "markdown",
   "metadata": {},
   "source": [
    "### Predicting outcomes for using the 'most observations' df. "
   ]
  },
  {
   "cell_type": "code",
   "execution_count": 10,
   "metadata": {},
   "outputs": [
    {
     "name": "stdout",
     "output_type": "stream",
     "text": [
      "Mean Absolute Error: 1114.5304889026581\n",
      "Mean Squared Error: 1455149.3343023139\n",
      "Root Mean Squared Error: 1206.2957076531086\n",
      "R^2 Math:, 0.1294116115239885\n"
     ]
    }
   ],
   "source": [
    "# Math outcomes. \n",
    "X_train, X_test, y_train, y_test = train_test_split(mostObs_pred, mostObs_MathOutc, test_size=0.20, random_state = 649)\n",
    "regressor = LinearRegression()\n",
    "regressor.fit(X_train, y_train)\n",
    "y_pred = regressor.predict(X_test)\n",
    "print('Mean Absolute Error:', metrics.mean_absolute_error(y_test, y_pred))  \n",
    "print('Mean Squared Error:', metrics.mean_squared_error(y_test, y_pred))  \n",
    "print('Root Mean Squared Error:', np.sqrt(metrics.mean_squared_error(y_test, y_pred)))\n",
    "print('R^2 Math:,', r2_score(y_test, y_pred))"
   ]
  },
  {
   "cell_type": "code",
   "execution_count": 11,
   "metadata": {},
   "outputs": [
    {
     "name": "stdout",
     "output_type": "stream",
     "text": [
      "Mean Absolute Error: 1193.4802467875047\n",
      "Mean Squared Error: 1697024.1614503476\n",
      "Root Mean Squared Error: 1302.6987992050763\n",
      "R^2 Reading:, 0.12321312706062704\n"
     ]
    }
   ],
   "source": [
    "# Reading outcomes. \n",
    "X_train, X_test, y_train, y_test = train_test_split(mostObs_pred, mostObs_ReadOutc, test_size=0.20, random_state = 649)\n",
    "regressor = LinearRegression()\n",
    "regressor.fit(X_train, y_train)\n",
    "print('Mean Absolute Error:', metrics.mean_absolute_error(y_test, y_pred))  \n",
    "print('Mean Squared Error:', metrics.mean_squared_error(y_test, y_pred))  \n",
    "print('Root Mean Squared Error:', np.sqrt(metrics.mean_squared_error(y_test, y_pred)))\n",
    "print('R^2 Reading:,', r2_score(y_test, y_pred))"
   ]
  },
  {
   "cell_type": "markdown",
   "metadata": {},
   "source": [
    "### Predicting outcomes for using the 'most features' df. "
   ]
  },
  {
   "cell_type": "code",
   "execution_count": 12,
   "metadata": {},
   "outputs": [
    {
     "name": "stdout",
     "output_type": "stream",
     "text": [
      "Mean Absolute Error: 118.58885939767453\n",
      "Mean Squared Error: 98614.70838888134\n",
      "Root Mean Squared Error: 314.02978901512085\n",
      "R^2 Math:, 0.32298406962202986\n"
     ]
    }
   ],
   "source": [
    "# Math outcomes. \n",
    "X_train, X_test, y_train, y_test = train_test_split(mostFeats_pred, mostFeats_MathOutc, test_size=0.20, random_state = 649)\n",
    "regressor = LinearRegression()\n",
    "regressor.fit(X_train, y_train)\n",
    "y_pred = regressor.predict(X_test)\n",
    "print('Mean Absolute Error:', metrics.mean_absolute_error(y_test, y_pred))  \n",
    "print('Mean Squared Error:', metrics.mean_squared_error(y_test, y_pred))  \n",
    "print('Root Mean Squared Error:', np.sqrt(metrics.mean_squared_error(y_test, y_pred)))\n",
    "print('R^2 Math:,', r2_score(y_test, y_pred))"
   ]
  },
  {
   "cell_type": "code",
   "execution_count": 13,
   "metadata": {},
   "outputs": [
    {
     "name": "stdout",
     "output_type": "stream",
     "text": [
      "Mean Absolute Error: 206.9937530189295\n",
      "Mean Squared Error: 192530.2368452808\n",
      "Root Mean Squared Error: 438.78267609977587\n",
      "R^2 Reading:, 0.4257221978037906\n"
     ]
    }
   ],
   "source": [
    "# Reading outcomes. \n",
    "X_train, X_test, y_train, y_test = train_test_split(mostFeats_pred, mostFeats_ReadOutc, test_size=0.20, random_state = 649)\n",
    "regressor = LinearRegression()\n",
    "regressor.fit(X_train, y_train)\n",
    "y_pred = regressor.predict(X_test)\n",
    "print('Mean Absolute Error:', metrics.mean_absolute_error(y_test, y_pred))  \n",
    "print('Mean Squared Error:', metrics.mean_squared_error(y_test, y_pred))  \n",
    "print('Root Mean Squared Error:', np.sqrt(metrics.mean_squared_error(y_test, y_pred)))\n",
    "print('R^2 Reading:,', r2_score(y_test, y_pred))"
   ]
  },
  {
   "cell_type": "markdown",
   "metadata": {},
   "source": [
    "# Baseline models for dfs with binary outcome variables = logistics regression. "
   ]
  },
  {
   "cell_type": "code",
   "execution_count": 17,
   "metadata": {},
   "outputs": [],
   "source": [
    "from sklearn.linear_model import LogisticRegression\n",
    "from sklearn.metrics import accuracy_score, f1_score, precision_score, recall_score, roc_auc_score"
   ]
  },
  {
   "cell_type": "markdown",
   "metadata": {},
   "source": [
    "### Predicting outcomes for the 'most observations ' df. "
   ]
  },
  {
   "cell_type": "code",
   "execution_count": 18,
   "metadata": {},
   "outputs": [
    {
     "name": "stdout",
     "output_type": "stream",
     "text": [
      "Accuracy: 0.784182776801406\n",
      "Precision: 0.8529284164859002\n",
      "Recall: 0.6886164623467601\n",
      "ROC_AUC:, 0.7845198713850203\n",
      "F1: 0.762015503875969\n"
     ]
    }
   ],
   "source": [
    "# Math outcomes. \n",
    "X_train, X_test, y_train, y_test = train_test_split(mostObs_pred, mostObs_MathOutc, test_size=0.20, random_state = 649)\n",
    "regressor = LogisticRegression(solver='liblinear')\n",
    "regressor.fit(X_train, y_train)\n",
    "# Math metrics\n",
    "y_pred = regressor.predict(X_test)\n",
    "print('Accuracy:', metrics.accuracy_score(y_test, y_pred))  \n",
    "print('Precision:', metrics.precision_score(y_test, y_pred))  \n",
    "print('Recall:', recall_score(y_test, y_pred))\n",
    "print('ROC_AUC:,', roc_auc_score(y_test, y_pred))\n",
    "print('F1:', f1_score(y_test, y_pred))"
   ]
  },
  {
   "cell_type": "code",
   "execution_count": 19,
   "metadata": {},
   "outputs": [
    {
     "name": "stdout",
     "output_type": "stream",
     "text": [
      "Accuracy: 0.7644991212653779\n",
      "Precision: 0.7752388087656864\n",
      "Recall: 0.9672820752512269\n",
      "ROC_AUC:, 0.5584107045285192\n",
      "F1: 0.8606778956123934\n"
     ]
    }
   ],
   "source": [
    "# Read outcomes. \n",
    "X_train, X_test, y_train, y_test = train_test_split(mostObs_pred, mostObs_ReadOutc, test_size=0.20, random_state = 649)\n",
    "regressor = LogisticRegression(solver='liblinear')\n",
    "regressor.fit(X_train, y_train)\n",
    "# Read metrics\n",
    "y_pred = regressor.predict(X_test)\n",
    "print('Accuracy:', metrics.accuracy_score(y_test, y_pred))  \n",
    "print('Precision:', metrics.precision_score(y_test, y_pred))  \n",
    "print('Recall:', recall_score(y_test, y_pred))\n",
    "print('ROC_AUC:,', roc_auc_score(y_test, y_pred))\n",
    "print('F1:', f1_score(y_test, y_pred))"
   ]
  },
  {
   "cell_type": "markdown",
   "metadata": {},
   "source": [
    "## Predicting outcomes for the 'most features' df. "
   ]
  },
  {
   "cell_type": "code",
   "execution_count": 20,
   "metadata": {},
   "outputs": [
    {
     "name": "stdout",
     "output_type": "stream",
     "text": [
      "Accuracy: 0.7794561933534743\n",
      "Precision: 0.8565346956151554\n",
      "Recall: 0.6899862825788752\n",
      "ROC_AUC:, 0.7828389546424439\n",
      "F1: 0.764292497625831\n"
     ]
    }
   ],
   "source": [
    "# Math outcomes. \n",
    "X_train, X_test, y_train, y_test = train_test_split(mostFeats_pred, mostFeats_MathOutc, test_size=0.20, random_state = 649)\n",
    "regressor = LogisticRegression(solver='liblinear')\n",
    "regressor.fit(X_train, y_train)\n",
    "y_pred = regressor.predict(X_test)\n",
    "print('Accuracy:', metrics.accuracy_score(y_test, y_pred))  \n",
    "print('Precision:', metrics.precision_score(y_test, y_pred))  \n",
    "print('Recall:', recall_score(y_test, y_pred))\n",
    "print('ROC_AUC:,', roc_auc_score(y_test, y_pred))\n",
    "print('F1:', f1_score(y_test, y_pred))"
   ]
  },
  {
   "cell_type": "code",
   "execution_count": 22,
   "metadata": {},
   "outputs": [
    {
     "name": "stdout",
     "output_type": "stream",
     "text": [
      "Accuracy: 0.771636751377288\n",
      "Precision: 0.7722949937197201\n",
      "Recall: 0.9962962962962963\n",
      "ROC_AUC:, 0.5126852560287909\n",
      "F1: 0.8701101789143839\n"
     ]
    }
   ],
   "source": [
    "# Reading outcomes. \n",
    "X_train, X_test, y_train, y_test = train_test_split(mostFeats_pred, mostFeats_ReadOutc, test_size=0.20, random_state = 649)\n",
    "regressor = LogisticRegression(solver='liblinear')\n",
    "regressor.fit(X_train, y_train)\n",
    "y_pred = regressor.predict(X_test)\n",
    "print('Accuracy:', metrics.accuracy_score(y_test, y_pred))  \n",
    "print('Precision:', metrics.precision_score(y_test, y_pred))  \n",
    "print('Recall:', recall_score(y_test, y_pred))\n",
    "print('ROC_AUC:,', roc_auc_score(y_test, y_pred))\n",
    "print('F1:', f1_score(y_test, y_pred))"
   ]
  },
  {
   "cell_type": "code",
   "execution_count": null,
   "metadata": {},
   "outputs": [],
   "source": []
  }
 ],
 "metadata": {
  "kernelspec": {
   "display_name": "Python 3",
   "language": "python",
   "name": "python3"
  },
  "language_info": {
   "codemirror_mode": {
    "name": "ipython",
    "version": 3
   },
   "file_extension": ".py",
   "mimetype": "text/x-python",
   "name": "python",
   "nbconvert_exporter": "python",
   "pygments_lexer": "ipython3",
   "version": "3.7.5"
  }
 },
 "nbformat": 4,
 "nbformat_minor": 2
}
