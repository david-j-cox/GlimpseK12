{
 "cells": [
  {
   "cell_type": "code",
   "execution_count": 1,
   "metadata": {},
   "outputs": [
    {
     "name": "stdout",
     "output_type": "stream",
     "text": [
      "/Users/dcox/Dropbox/InsightFellowship/Glimpse\n"
     ]
    }
   ],
   "source": [
    "cd /Users/dcox/Dropbox/InsightFellowship/Glimpse/"
   ]
  },
  {
   "cell_type": "markdown",
   "metadata": {},
   "source": [
    "# Baseline models for Glimpse K12. "
   ]
  },
  {
   "cell_type": "code",
   "execution_count": 2,
   "metadata": {},
   "outputs": [],
   "source": [
    "import numpy as np\n",
    "import matplotlib as plt\n",
    "import pandas as pd\n",
    "import seaborn as sns"
   ]
  },
  {
   "cell_type": "markdown",
   "metadata": {},
   "source": [
    "# Baseline models for dfs with continuous outcome variables = linear regression. "
   ]
  },
  {
   "cell_type": "markdown",
   "metadata": {},
   "source": [
    "### Read in the data"
   ]
  },
  {
   "cell_type": "code",
   "execution_count": 3,
   "metadata": {},
   "outputs": [],
   "source": [
    "most_feats = pd.read_csv('most_feats_cont_feateng.csv')"
   ]
  },
  {
   "cell_type": "markdown",
   "metadata": {},
   "source": [
    "### Set up dfs for predictor and outcome variables "
   ]
  },
  {
   "cell_type": "code",
   "execution_count": 4,
   "metadata": {},
   "outputs": [],
   "source": [
    "mostFeats_MathOutc = most_feats['ScantronMathPostTest']\n",
    "mostFeats_ReadOutc = most_feats['ScantronReadingPostTest']\n",
    "mostFeats_pred = most_feats.drop(['ScantronMathPostTest', 'ScantronReadingPostTest'], axis=1)"
   ]
  },
  {
   "cell_type": "markdown",
   "metadata": {},
   "source": [
    "### Recode categorical strings with number labels and save those dictionaries"
   ]
  },
  {
   "cell_type": "code",
   "execution_count": 5,
   "metadata": {},
   "outputs": [],
   "source": [
    "# Most features df\n",
    "mostFeats_predCols = list(mostFeats_pred)\n",
    "mostFeats_predCodes = []\n",
    "for i in mostFeats_predCols:\n",
    "    mostFeats_pred[i] = mostFeats_pred[i].astype('category')\n",
    "    d = dict(enumerate(mostFeats_pred[i].cat.categories))\n",
    "    mostFeats_predCodes.append(d)\n",
    "    mostFeats_pred[i] = mostFeats_pred[i].astype('category')\n",
    "    mostFeats_pred[i] = mostFeats_pred[i].cat.codes"
   ]
  },
  {
   "cell_type": "markdown",
   "metadata": {},
   "source": [
    "### Packages, functions, and algorithms. "
   ]
  },
  {
   "cell_type": "code",
   "execution_count": 6,
   "metadata": {},
   "outputs": [],
   "source": [
    "from sklearn.model_selection import train_test_split\n",
    "from sklearn.linear_model import LinearRegression\n",
    "from sklearn import metrics\n",
    "from sklearn.metrics import r2_score"
   ]
  },
  {
   "cell_type": "markdown",
   "metadata": {},
   "source": [
    "### Predicting outcomes for using the 'most features' df. "
   ]
  },
  {
   "cell_type": "code",
   "execution_count": 7,
   "metadata": {},
   "outputs": [
    {
     "name": "stdout",
     "output_type": "stream",
     "text": [
      "Mean Absolute Error: 118.60707950078657\n",
      "Mean Squared Error: 98597.84280062722\n",
      "Root Mean Squared Error: 314.00293438219205\n",
      "R^2 Math:, 0.3230998563247417\n"
     ]
    },
    {
     "data": {
      "text/plain": [
       "<matplotlib.axes._subplots.AxesSubplot at 0x1a18066a10>"
      ]
     },
     "execution_count": 7,
     "metadata": {},
     "output_type": "execute_result"
    },
    {
     "data": {
      "image/png": "[encoded data removed]",
      "text/plain": [
       "<Figure size 432x288 with 1 Axes>"
      ]
     },
     "metadata": {
      "needs_background": "light"
     },
     "output_type": "display_data"
    }
   ],
   "source": [
    "# Math outcomes. \n",
    "X_train, X_test, y_train, y_test = train_test_split(mostFeats_pred, mostFeats_MathOutc, test_size=0.20, random_state = 649)\n",
    "regressor = LinearRegression()\n",
    "regressor.fit(X_train, y_train)\n",
    "y_pred = regressor.predict(X_test)\n",
    "print('Mean Absolute Error:', metrics.mean_absolute_error(y_test, y_pred))  \n",
    "print('Mean Squared Error:', metrics.mean_squared_error(y_test, y_pred))  \n",
    "print('Root Mean Squared Error:', np.sqrt(metrics.mean_squared_error(y_test, y_pred)))\n",
    "print('R^2 Math:,', r2_score(y_test, y_pred))\n",
    "residuals = y_test - y_pred\n",
    "sns.distplot(residuals, bins=50, color='black')"
   ]
  },
  {
   "cell_type": "code",
   "execution_count": 8,
   "metadata": {},
   "outputs": [
    {
     "name": "stdout",
     "output_type": "stream",
     "text": [
      "Mean Absolute Error: 205.13911791735296\n",
      "Mean Squared Error: 188672.7145761632\n",
      "Root Mean Squared Error: 434.36472528989185\n",
      "R^2 Reading:, 0.4372283874129168\n"
     ]
    },
    {
     "data": {
      "text/plain": [
       "<matplotlib.axes._subplots.AxesSubplot at 0x1a1867e810>"
      ]
     },
     "execution_count": 8,
     "metadata": {},
     "output_type": "execute_result"
    },
    {
     "data": {
      "image/png": "[encoded data removed]",
      "text/plain": [
       "<Figure size 432x288 with 1 Axes>"
      ]
     },
     "metadata": {
      "needs_background": "light"
     },
     "output_type": "display_data"
    }
   ],
   "source": [
    "# Reading outcomes. \n",
    "X_train, X_test, y_train, y_test = train_test_split(mostFeats_pred, mostFeats_ReadOutc, test_size=0.20, random_state = 649)\n",
    "regressor = LinearRegression()\n",
    "regressor.fit(X_train, y_train)\n",
    "y_pred = regressor.predict(X_test)\n",
    "print('Mean Absolute Error:', metrics.mean_absolute_error(y_test, y_pred))  \n",
    "print('Mean Squared Error:', metrics.mean_squared_error(y_test, y_pred))  \n",
    "print('Root Mean Squared Error:', np.sqrt(metrics.mean_squared_error(y_test, y_pred)))\n",
    "print('R^2 Reading:,', r2_score(y_test, y_pred))\n",
    "residuals = y_test - y_pred\n",
    "sns.distplot(residuals, bins=50, color='black')"
   ]
  },
  {
   "cell_type": "markdown",
   "metadata": {},
   "source": [
    "# Baseline models for dfs with binary outcome variables = logistics regression. "
   ]
  },
  {
   "cell_type": "code",
   "execution_count": 9,
   "metadata": {},
   "outputs": [],
   "source": [
    "most_feats = pd.read_csv('most_feats_binary_feateng.csv')"
   ]
  },
  {
   "cell_type": "code",
   "execution_count": 11,
   "metadata": {},
   "outputs": [],
   "source": [
    "mostFeats_MathOutc = most_feats['ScantronMathPostTestBenchmarks']\n",
    "mostFeats_ReadOutc = most_feats['ScantronReadingPostTestBenchmarks']\n",
    "mostFeats_pred = most_feats.drop(['ScantronMathPostTestBenchmarks', 'ScantronReadingPostTestBenchmarks'], axis=1)"
   ]
  },
  {
   "cell_type": "code",
   "execution_count": 12,
   "metadata": {},
   "outputs": [],
   "source": [
    "# Most features df\n",
    "mostFeats_predCols = list(mostFeats_pred)\n",
    "mostFeats_predCodes = []\n",
    "for i in mostFeats_predCols:\n",
    "    mostFeats_pred[i] = mostFeats_pred[i].astype('category')\n",
    "    d = dict(enumerate(mostFeats_pred[i].cat.categories))\n",
    "    mostFeats_predCodes.append(d)\n",
    "    mostFeats_pred[i] = mostFeats_pred[i].astype('category')\n",
    "    mostFeats_pred[i] = mostFeats_pred[i].cat.codes"
   ]
  },
  {
   "cell_type": "code",
   "execution_count": 13,
   "metadata": {},
   "outputs": [],
   "source": [
    "from sklearn.linear_model import LogisticRegression\n",
    "from sklearn.metrics import accuracy_score, f1_score, precision_score, recall_score, roc_auc_score, confusion_matrix"
   ]
  },
  {
   "cell_type": "code",
   "execution_count": 14,
   "metadata": {},
   "outputs": [],
   "source": [
    "def plot_cm(y_test, y_pred):\n",
    "    cm = confusion_matrix(y_test, y_pred)\n",
    "    df_cm = pd.DataFrame(cm, columns=np.unique(y_test), index = np.unique(y_test))\n",
    "    df_cm.index.name = 'Actual'\n",
    "    df_cm.columns.name = 'Predicted'\n",
    "    sns.heatmap(df_cm, cmap=\"Blues\", annot=True,annot_kws={\"size\": 16}, fmt='g')# font size"
   ]
  },
  {
   "cell_type": "markdown",
   "metadata": {},
   "source": [
    "## Predicting outcomes for the 'most features' df. "
   ]
  },
  {
   "cell_type": "code",
   "execution_count": 15,
   "metadata": {},
   "outputs": [
    {
     "name": "stdout",
     "output_type": "stream",
     "text": [
      "Accuracy: 0.7810556246667851\n",
      "Precision: 0.8570822731128075\n",
      "Recall: 0.6930727023319616\n",
      "ROC_AUC:, 0.784382164518987\n",
      "F1: 0.7664012135001896\n"
     ]
    },
    {
     "data": {
      "image/png": "[encoded data removed]",
      "text/plain": [
       "<Figure size 432x288 with 2 Axes>"
      ]
     },
     "metadata": {
      "needs_background": "light"
     },
     "output_type": "display_data"
    }
   ],
   "source": [
    "# Math outcomes. \n",
    "X_train, X_test, y_train, y_test = train_test_split(mostFeats_pred, mostFeats_MathOutc, test_size=0.20, random_state = 649)\n",
    "regressor = LogisticRegression(solver='liblinear')\n",
    "regressor.fit(X_train, y_train)\n",
    "y_pred = regressor.predict(X_test)\n",
    "print('Accuracy:', metrics.accuracy_score(y_test, y_pred))  \n",
    "print('Precision:', metrics.precision_score(y_test, y_pred))  \n",
    "print('Recall:', recall_score(y_test, y_pred))\n",
    "print('ROC_AUC:,', roc_auc_score(y_test, y_pred))\n",
    "print('F1:', f1_score(y_test, y_pred))\n",
    "plot_cm(y_test, y_pred)"
   ]
  },
  {
   "cell_type": "code",
   "execution_count": 16,
   "metadata": {},
   "outputs": [
    {
     "name": "stdout",
     "output_type": "stream",
     "text": [
      "Accuracy: 0.7764350453172205\n",
      "Precision: 0.7879984951091046\n",
      "Recall: 0.9696759259259259\n",
      "ROC_AUC:, 0.5536979476607441\n",
      "F1: 0.8694479036944789\n"
     ]
    },
    {
     "data": {
      "image/png": "[encoded data removed]",
      "text/plain": [
       "<Figure size 432x288 with 2 Axes>"
      ]
     },
     "metadata": {
      "needs_background": "light"
     },
     "output_type": "display_data"
    }
   ],
   "source": [
    "# Reading outcomes. \n",
    "X_train, X_test, y_train, y_test = train_test_split(mostFeats_pred, mostFeats_ReadOutc, test_size=0.20, random_state = 649)\n",
    "regressor = LogisticRegression(solver='liblinear')\n",
    "regressor.fit(X_train, y_train)\n",
    "y_pred = regressor.predict(X_test)\n",
    "print('Accuracy:', metrics.accuracy_score(y_test, y_pred))  \n",
    "print('Precision:', metrics.precision_score(y_test, y_pred))  \n",
    "print('Recall:', recall_score(y_test, y_pred))\n",
    "print('ROC_AUC:,', roc_auc_score(y_test, y_pred))\n",
    "print('F1:', f1_score(y_test, y_pred))\n",
    "plot_cm(y_test, y_pred)"
   ]
  }
 ],
 "metadata": {
  "kernelspec": {
   "display_name": "Python 3",
   "language": "python",
   "name": "python3"
  },
  "language_info": {
   "codemirror_mode": {
    "name": "ipython",
    "version": 3
   },
   "file_extension": ".py",
   "mimetype": "text/x-python",
   "name": "python",
   "nbconvert_exporter": "python",
   "pygments_lexer": "ipython3",
   "version": "3.7.5"
  }
 },
 "nbformat": 4,
 "nbformat_minor": 2
}
