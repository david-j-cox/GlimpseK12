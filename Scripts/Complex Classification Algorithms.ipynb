{
 "cells": [
  {
   "cell_type": "markdown",
   "metadata": {},
   "source": [
    "# Complex analyses for binary outcomes. "
   ]
  },
  {
   "cell_type": "code",
   "execution_count": 3,
   "metadata": {},
   "outputs": [],
   "source": [
    "import numpy as np\n",
    "import pandas as pd\n",
    "import matplotlib.pyplot as plt\n",
    "from sklearn.model_selection import train_test_split\n",
    "from sklearn import metrics\n",
    "from sklearn.metrics import f1_score\n",
    "import csv"
   ]
  },
  {
   "cell_type": "markdown",
   "metadata": {},
   "source": [
    "### Read in the data. "
   ]
  },
  {
   "cell_type": "code",
   "execution_count": 4,
   "metadata": {},
   "outputs": [],
   "source": [
    "most_obs = pd.read_csv('most_obs_binary.csv')\n",
    "most_feats = pd.read_csv('most_feats_binary.csv')"
   ]
  },
  {
   "cell_type": "markdown",
   "metadata": {},
   "source": [
    "### Set up the dfs for predictor and outcome variables. "
   ]
  },
  {
   "cell_type": "code",
   "execution_count": 5,
   "metadata": {},
   "outputs": [],
   "source": [
    "mostObs_MathOutc = most_obs['ScantronMathPostTestBenchmarks']\n",
    "mostObs_ReadOutc = most_obs['ScantronReadingPostTestBenchmarks']\n",
    "mostObs_pred = most_obs.drop(['ScantronMathPostTestBenchmarks', 'ScantronReadingPostTestBenchmarks'], axis=1)\n",
    "mostFeats_MathOutc = most_feats['ScantronMathPostTestBenchmarks']\n",
    "mostFeats_ReadOutc = most_feats['ScantronReadingPostTestBenchmarks']\n",
    "mostFeats_pred = most_feats.drop(['ScantronMathPostTestBenchmarks', 'ScantronReadingPostTestBenchmarks'], axis=1)"
   ]
  },
  {
   "cell_type": "markdown",
   "metadata": {},
   "source": [
    "### Recode categorical strings with number labels and save those dictionaries. "
   ]
  },
  {
   "cell_type": "code",
   "execution_count": 6,
   "metadata": {},
   "outputs": [],
   "source": [
    "# Most observations df\n",
    "mostObs_predCols = list(mostObs_pred)\n",
    "mostObs_predCodes = []\n",
    "for i in mostObs_predCols:\n",
    "    mostObs_pred[i] = mostObs_pred[i].astype('category')\n",
    "    d = dict(enumerate(mostObs_pred[i].cat.categories))\n",
    "    mostObs_predCodes.append(d)\n",
    "    mostObs_pred[i] = mostObs_pred[i].astype('category')\n",
    "    mostObs_pred[i] = mostObs_pred[i].cat.codes\n",
    "\n",
    "# Most features df\n",
    "mostFeats_predCols = list(mostFeats_pred)\n",
    "mostFeats_predCodes = []\n",
    "for i in mostFeats_predCols:\n",
    "    mostFeats_pred[i] = mostFeats_pred[i].astype('category')\n",
    "    d = dict(enumerate(mostFeats_pred[i].cat.categories))\n",
    "    mostFeats_predCodes.append(d)\n",
    "    mostFeats_pred[i] = mostFeats_pred[i].astype('category')\n",
    "    mostFeats_pred[i] = mostFeats_pred[i].cat.codes"
   ]
  },
  {
   "cell_type": "markdown",
   "metadata": {},
   "source": [
    "## List of algorithms to try\n",
    "- Ridge Classifier\n",
    "- Support Vector Machine\n",
    "- Nearest Neighbors\n",
    "- Naive Bayes\n",
    "- Random Forest\n",
    "- Neural networks"
   ]
  },
  {
   "cell_type": "markdown",
   "metadata": {},
   "source": [
    "### Some functions we'll use. "
   ]
  },
  {
   "cell_type": "code",
   "execution_count": 7,
   "metadata": {},
   "outputs": [],
   "source": [
    "def metrics_display(y_test, y_pred):\n",
    "    '''Prints basic metrics for initial model assessment.'''\n",
    "    print('Accuracy:', metrics.accuracy_score(y_test, y_pred))  \n",
    "    print('Precision:', metrics.precision_score(y_test, y_pred))  \n",
    "    print('Recall:', recall_score(y_test, y_pred))\n",
    "    print('ROC_AUC:,', roc_auc_score(y_test, y_pred))\n",
    "    print('F1:', f1_score(y_test, y_pred))\n",
    "\n",
    "def line_plot(x, title):\n",
    "    '''Returns lineplot of metric values for model tested.'''\n",
    "    plt.plot(x, marker='o', color='black')\n",
    "    plt.xlabel(title.astype(str))\n",
    "    plt.ylabel('Metric')\n",
    "    plt.title(title)\n",
    "    print(\"Highest Accuracy:\", max(x))"
   ]
  },
  {
   "cell_type": "markdown",
   "metadata": {},
   "source": [
    "## Predicting outcomes for using the 'most observations' df. "
   ]
  },
  {
   "cell_type": "markdown",
   "metadata": {},
   "source": [
    "### Ridge Classifier"
   ]
  },
  {
   "cell_type": "code",
   "execution_count": 8,
   "metadata": {},
   "outputs": [
    {
     "name": "stdout",
     "output_type": "stream",
     "text": [
      "Max Accuracy: 0.78\n",
      "Max F1: 0.75\n"
     ]
    },
    {
     "data": {
      "image/png": "[encoded data removed]",
      "text/plain": [
       "<Figure size 432x288 with 1 Axes>"
      ]
     },
     "metadata": {
      "needs_background": "light"
     },
     "output_type": "display_data"
    }
   ],
   "source": [
    "from sklearn.linear_model import RidgeClassifier\n",
    "# Math outcomes\n",
    "X_train, X_test, y_train, y_test = train_test_split(mostObs_pred, mostObs_MathOutc, test_size=0.20, random_state = 649)\n",
    "rr_acc = []\n",
    "rr_f1 = []\n",
    "pot_alphas = [1e100, 1e10, 1e5, 0.01, 0.1, 1, 10, 100, 1000, 100000, 10000000000]\n",
    "for i in pot_alphas:\n",
    "    rr = RidgeClassifier(alpha=i)\n",
    "    rr.fit(X_train, y_train)\n",
    "    pred_train_rr= rr.predict(X_train)\n",
    "    pred_test_rr= rr.predict(X_test)\n",
    "    acc_val = metrics.accuracy_score(y_test, pred_test_rr)\n",
    "    rr_acc.append(acc_val)\n",
    "    f1_val = f1_score(y_test, pred_test_rr)\n",
    "    rr_f1.append(f1_val)\n",
    "plt.plot(rr_acc, marker='o', color='black')\n",
    "plt.plot(rr_f1, marker='o', color='blue')\n",
    "print(\"Max Accuracy:\", round(max(rr_acc), 2))\n",
    "print('Max F1:', round(max(rr_f1), 2))"
   ]
  },
  {
   "cell_type": "code",
   "execution_count": 9,
   "metadata": {},
   "outputs": [
    {
     "name": "stdout",
     "output_type": "stream",
     "text": [
      "Max Accuracy: 0.76\n",
      "Max F1: 0.86\n"
     ]
    },
    {
     "data": {
      "image/png": "[encoded data removed]",
      "text/plain": [
       "<Figure size 432x288 with 1 Axes>"
      ]
     },
     "metadata": {
      "needs_background": "light"
     },
     "output_type": "display_data"
    }
   ],
   "source": [
    "# Reading outcomes\n",
    "X_train, X_test, y_train, y_test = train_test_split(mostObs_pred, mostObs_ReadOutc, test_size=0.20, random_state = 649)\n",
    "rr_acc = []\n",
    "rr_f1 = []\n",
    "pot_alphas = [1e100, 1e10, 1e5, 0.01, 0.1, 1, 10, 100, 1000, 100000, 10000000000]\n",
    "for i in pot_alphas:\n",
    "    rr = RidgeClassifier(alpha=i)\n",
    "    rr.fit(X_train, y_train)\n",
    "    pred_train_rr= rr.predict(X_train)\n",
    "    pred_test_rr= rr.predict(X_test)\n",
    "    acc_val = metrics.accuracy_score(y_test, pred_test_rr)\n",
    "    rr_acc.append(acc_val)\n",
    "    f1_val = f1_score(y_test, pred_test_rr)\n",
    "    rr_f1.append(f1_val)\n",
    "plt.plot(rr_acc, marker='o', color='black')\n",
    "plt.plot(rr_f1, marker='o', color='blue')\n",
    "print(\"Max Accuracy:\", round(max(rr_acc), 2))\n",
    "print('Max F1:', round(max(rr_f1), 2))"
   ]
  },
  {
   "cell_type": "markdown",
   "metadata": {},
   "source": [
    "### Support Vector Machines"
   ]
  },
  {
   "cell_type": "markdown",
   "metadata": {},
   "source": [
    "#### LinearSVC kernel"
   ]
  },
  {
   "cell_type": "code",
   "execution_count": 14,
   "metadata": {},
   "outputs": [
    {
     "name": "stderr",
     "output_type": "stream",
     "text": [
      "/Users/dcox/anaconda3/lib/python3.7/site-packages/sklearn/svm/base.py:929: ConvergenceWarning: Liblinear failed to converge, increase the number of iterations.\n",
      "  \"the number of iterations.\", ConvergenceWarning)\n",
      "/Users/dcox/anaconda3/lib/python3.7/site-packages/sklearn/svm/base.py:929: ConvergenceWarning: Liblinear failed to converge, increase the number of iterations.\n",
      "  \"the number of iterations.\", ConvergenceWarning)\n",
      "/Users/dcox/anaconda3/lib/python3.7/site-packages/sklearn/svm/base.py:929: ConvergenceWarning: Liblinear failed to converge, increase the number of iterations.\n",
      "  \"the number of iterations.\", ConvergenceWarning)\n",
      "/Users/dcox/anaconda3/lib/python3.7/site-packages/sklearn/svm/base.py:929: ConvergenceWarning: Liblinear failed to converge, increase the number of iterations.\n",
      "  \"the number of iterations.\", ConvergenceWarning)\n",
      "/Users/dcox/anaconda3/lib/python3.7/site-packages/sklearn/svm/base.py:929: ConvergenceWarning: Liblinear failed to converge, increase the number of iterations.\n",
      "  \"the number of iterations.\", ConvergenceWarning)\n",
      "No handles with labels found to put in legend.\n"
     ]
    },
    {
     "name": "stdout",
     "output_type": "stream",
     "text": [
      "Max Accuracy: 0.78\n",
      "Max F1: 0.76\n"
     ]
    },
    {
     "data": {
      "image/png": "[encoded data removed]",
      "text/plain": [
       "<Figure size 432x288 with 1 Axes>"
      ]
     },
     "metadata": {
      "needs_background": "light"
     },
     "output_type": "display_data"
    }
   ],
   "source": [
    "# Math outcomes\n",
    "X_train, X_test, y_train, y_test = train_test_split(mostObs_pred, mostObs_MathOutc, test_size=0.20, random_state = 649)\n",
    "acc_scores = []\n",
    "f1_scores = []\n",
    "C_range = [0.01, 0.1, 1, 10, 100]\n",
    "for i in C_range:\n",
    "    classifier = svm.LinearSVC(C=i, max_iter=10000)\n",
    "    classifier.fit(X_train, y_train)\n",
    "    pred_train= classifier.predict(X_train)\n",
    "    pred_test= classifier.predict(X_test)\n",
    "    acc_val = metrics.accuracy_score(y_test, pred_test)\n",
    "    acc_scores.append(acc_val)\n",
    "    f1_val = f1_score(y_test, pred_test)\n",
    "    f1_scores.append(f1_val)\n",
    "plt.plot(acc_scores, marker='o', color='black')\n",
    "plt.plot(f1_scores, marker='o', color='blue')\n",
    "plt.legend()\n",
    "print(\"Max Accuracy:\", round(max(acc_scores), 2))\n",
    "print('Max F1:', round(max(f1_scores), 2))"
   ]
  },
  {
   "cell_type": "code",
   "execution_count": 15,
   "metadata": {},
   "outputs": [
    {
     "name": "stderr",
     "output_type": "stream",
     "text": [
      "/Users/dcox/anaconda3/lib/python3.7/site-packages/sklearn/svm/base.py:929: ConvergenceWarning: Liblinear failed to converge, increase the number of iterations.\n",
      "  \"the number of iterations.\", ConvergenceWarning)\n",
      "/Users/dcox/anaconda3/lib/python3.7/site-packages/sklearn/svm/base.py:929: ConvergenceWarning: Liblinear failed to converge, increase the number of iterations.\n",
      "  \"the number of iterations.\", ConvergenceWarning)\n",
      "/Users/dcox/anaconda3/lib/python3.7/site-packages/sklearn/svm/base.py:929: ConvergenceWarning: Liblinear failed to converge, increase the number of iterations.\n",
      "  \"the number of iterations.\", ConvergenceWarning)\n",
      "/Users/dcox/anaconda3/lib/python3.7/site-packages/sklearn/svm/base.py:929: ConvergenceWarning: Liblinear failed to converge, increase the number of iterations.\n",
      "  \"the number of iterations.\", ConvergenceWarning)\n",
      "/Users/dcox/anaconda3/lib/python3.7/site-packages/sklearn/svm/base.py:929: ConvergenceWarning: Liblinear failed to converge, increase the number of iterations.\n",
      "  \"the number of iterations.\", ConvergenceWarning)\n",
      "No handles with labels found to put in legend.\n"
     ]
    },
    {
     "name": "stdout",
     "output_type": "stream",
     "text": [
      "Max Accuracy: 0.75\n",
      "Max F1: 0.86\n"
     ]
    },
    {
     "data": {
      "image/png": "[encoded data removed]",
      "text/plain": [
       "<Figure size 432x288 with 1 Axes>"
      ]
     },
     "metadata": {
      "needs_background": "light"
     },
     "output_type": "display_data"
    }
   ],
   "source": [
    "# Reading outcomes\n",
    "X_train, X_test, y_train, y_test = train_test_split(mostObs_pred, mostObs_ReadOutc, test_size=0.20, random_state = 649)\n",
    "acc_scores = []\n",
    "f1_scores = []\n",
    "C_range = [0.01, 0.1, 1, 10, 100]\n",
    "classifier = svm.LinearSVC()\n",
    "for i in C_range:\n",
    "    classifier = svm.LinearSVC(C=i, max_iter=10000)\n",
    "    classifier.fit(X_train, y_train)\n",
    "    pred_train= classifier.predict(X_train)\n",
    "    pred_test= classifier.predict(X_test)\n",
    "    acc_val = metrics.accuracy_score(y_test, pred_test)\n",
    "    acc_scores.append(acc_val)\n",
    "    f1_val = f1_score(y_test, pred_test)\n",
    "    f1_scores.append(f1_val)\n",
    "plt.plot(acc_scores, marker='o', color='black')\n",
    "plt.plot(f1_scores, marker='o', color='blue')\n",
    "plt.legend()\n",
    "print(\"Max Accuracy:\", round(max(acc_scores), 2))\n",
    "print('Max F1:', round(max(f1_scores), 2))"
   ]
  },
  {
   "cell_type": "markdown",
   "metadata": {},
   "source": [
    "#### RBF Kernel"
   ]
  },
  {
   "cell_type": "code",
   "execution_count": 16,
   "metadata": {},
   "outputs": [
    {
     "name": "stderr",
     "output_type": "stream",
     "text": [
      "No handles with labels found to put in legend.\n"
     ]
    },
    {
     "name": "stdout",
     "output_type": "stream",
     "text": [
      "Max Accuracy: 0.53\n",
      "Max F1: 0.67\n"
     ]
    },
    {
     "data": {
      "image/png": "[encoded data removed]",
      "text/plain": [
       "<Figure size 432x288 with 1 Axes>"
      ]
     },
     "metadata": {
      "needs_background": "light"
     },
     "output_type": "display_data"
    }
   ],
   "source": [
    "# Math outcomes\n",
    "X_train, X_test, y_train, y_test = train_test_split(mostObs_pred, mostObs_MathOutc, test_size=0.20, random_state = 649)\n",
    "acc_scores = []\n",
    "f1_scores = []\n",
    "C_range = [0.01, 0.1, 1, 10, 100]\n",
    "gamma_range = [1, 10, 100, 1000]\n",
    "for i in C_range:\n",
    "    for k in gamma_range:\n",
    "        classifier = svm.SVC(kernel = 'rbf', C=i, gamma=k)\n",
    "        classifier.fit(X_train, y_train)\n",
    "        pred_train= classifier.predict(X_train)\n",
    "        pred_test= classifier.predict(X_test)\n",
    "        acc_val = metrics.accuracy_score(y_test, pred_test)\n",
    "        acc_scores.append(acc_val)\n",
    "        f1_val = f1_score(y_test, pred_test)\n",
    "        f1_scores.append(f1_val)\n",
    "plt.plot(acc_scores, marker='o', color='black')\n",
    "plt.plot(f1_scores, marker='o', color='blue')\n",
    "plt.legend()\n",
    "print(\"Max Accuracy:\", round(max(acc_scores), 2))\n",
    "print('Max F1:', round(max(f1_scores), 2))"
   ]
  },
  {
   "cell_type": "code",
   "execution_count": 17,
   "metadata": {},
   "outputs": [
    {
     "name": "stderr",
     "output_type": "stream",
     "text": [
      "No handles with labels found to put in legend.\n"
     ]
    },
    {
     "name": "stdout",
     "output_type": "stream",
     "text": [
      "Max Accuracy: 0.75\n",
      "Max F1: 0.86\n"
     ]
    },
    {
     "data": {
      "image/png": "[encoded data removed]",
      "text/plain": [
       "<Figure size 432x288 with 1 Axes>"
      ]
     },
     "metadata": {
      "needs_background": "light"
     },
     "output_type": "display_data"
    }
   ],
   "source": [
    "# Reading outcomes\n",
    "X_train, X_test, y_train, y_test = train_test_split(mostObs_pred, mostObs_ReadOutc, test_size=0.20, random_state = 649)\n",
    "acc_scores = []\n",
    "f1_scores = []\n",
    "C_range = [0.01, 0.1, 1, 10, 100]\n",
    "gamma_range = [1, 10, 100, 1000]\n",
    "for i in C_range:\n",
    "    for k in gamma_range:\n",
    "        classifier = svm.SVC(kernel = 'rbf', C=i, gamma=k)\n",
    "        classifier.fit(X_train, y_train)\n",
    "        pred_train= classifier.predict(X_train)\n",
    "        pred_test= classifier.predict(X_test)\n",
    "        acc_val = metrics.accuracy_score(y_test, pred_test)\n",
    "        acc_scores.append(acc_val)\n",
    "        f1_val = f1_score(y_test, pred_test)\n",
    "        f1_scores.append(f1_val)\n",
    "plt.plot(acc_scores, marker='o', color='black')\n",
    "plt.plot(f1_scores, marker='o', color='blue')\n",
    "plt.legend()\n",
    "print(\"Max Accuracy:\", round(max(acc_scores), 2))\n",
    "print('Max F1:', round(max(f1_scores), 2))"
   ]
  },
  {
   "cell_type": "markdown",
   "metadata": {},
   "source": [
    "#### SVC with Poly Kernel"
   ]
  },
  {
   "cell_type": "code",
   "execution_count": null,
   "metadata": {},
   "outputs": [],
   "source": [
    "# Math outcomes\n",
    "X_train, X_test, y_train, y_test = train_test_split(mostObs_pred, mostObs_MathOutc, test_size=0.20, random_state = 649)\n",
    "acc_scores = []\n",
    "f1_scores = []\n",
    "C_range = [1, 10, 100]\n",
    "for i in C_range:\n",
    "    classifier = svm.SVC(kernel = 'poly', C=i, gamma='auto', degree=3)\n",
    "    classifier.fit(X_train, y_train)\n",
    "    pred_train= classifier.predict(X_train)\n",
    "    pred_test= classifier.predict(X_test)\n",
    "    acc_val = metrics.accuracy_score(y_test, pred_test)\n",
    "    acc_scores.append(acc_val)\n",
    "    f1_val = f1_score(y_test, pred_test)\n",
    "    f1_scores.append(f1_val)\n",
    "plt.plot(acc_scores, marker='o', color='black')\n",
    "plt.plot(f1_scores, marker='o', color='blue')\n",
    "plt.legend()\n",
    "print(\"Max Accuracy:\", round(max(acc_scores), 2))\n",
    "print('Max F1:', round(max(f1_scores), 2))"
   ]
  },
  {
   "cell_type": "code",
   "execution_count": null,
   "metadata": {},
   "outputs": [],
   "source": [
    "# Reading outcomes\n",
    "X_train, X_test, y_train, y_test = train_test_split(mostObs_pred, mostObs_ReadOutc, test_size=0.20, random_state = 649)\n",
    "acc_scores = []\n",
    "f1_scores = []\n",
    "C_range = [1, 10, 100]\n",
    "for i in C_range:\n",
    "    classifier = svm.SVC(kernel = 'poly', C=i, gamma='auto', degree=3)\n",
    "    classifier.fit(X_train, y_train)\n",
    "    pred_train= classifier.predict(X_train)\n",
    "    pred_test= classifier.predict(X_test)\n",
    "    acc_val = metrics.accuracy_score(y_test, pred_test)\n",
    "    acc_scores.append(acc_val)\n",
    "    f1_val = f1_score(y_test, pred_test)\n",
    "    f1_scores.append(f1_val)\n",
    "plt.plot(acc_scores, marker='o', color='black')\n",
    "plt.plot(f1_scores, marker='o', color='blue')\n",
    "plt.legend()\n",
    "print(\"Max Accuracy:\", round(max(acc_scores), 2))\n",
    "print('Max F1:', round(max(f1_scores), 2))"
   ]
  },
  {
   "cell_type": "markdown",
   "metadata": {},
   "source": [
    "### Nearest Neighbors"
   ]
  },
  {
   "cell_type": "code",
   "execution_count": 8,
   "metadata": {},
   "outputs": [
    {
     "name": "stderr",
     "output_type": "stream",
     "text": [
      "No handles with labels found to put in legend.\n"
     ]
    },
    {
     "name": "stdout",
     "output_type": "stream",
     "text": [
      "Max Accuracy: 0.6\n",
      "Max F1: 0.63\n"
     ]
    },
    {
     "data": {
      "image/png": "[encoded data removed]",
      "text/plain": [
       "<Figure size 432x288 with 1 Axes>"
      ]
     },
     "metadata": {
      "needs_background": "light"
     },
     "output_type": "display_data"
    }
   ],
   "source": [
    "from sklearn.neighbors import KNeighborsClassifier\n",
    "# Math outcomes\n",
    "X_train, X_test, y_train, y_test = train_test_split(mostObs_pred, mostObs_MathOutc, test_size=0.20, random_state = 649)\n",
    "acc_scores = []\n",
    "f1_scores = []\n",
    "neigh_range = list(range(1, 50))\n",
    "for i in neigh_range:\n",
    "    classifier = KNeighborsClassifier(n_neighbors=i)\n",
    "    classifier.fit(X_train, y_train)\n",
    "    pred_train= classifier.predict(X_train)\n",
    "    pred_test= classifier.predict(X_test)\n",
    "    acc_val = metrics.accuracy_score(y_test, pred_test)\n",
    "    acc_scores.append(acc_val)\n",
    "    f1_val = f1_score(y_test, pred_test)\n",
    "    f1_scores.append(f1_val)\n",
    "plt.plot(acc_scores, marker='o', color='black')\n",
    "plt.plot(f1_scores, marker='o', color='blue')\n",
    "print(\"Max Accuracy:\", round(max(acc_scores), 2))\n",
    "print('Max F1:', round(max(f1_scores), 2))"
   ]
  },
  {
   "cell_type": "code",
   "execution_count": 9,
   "metadata": {},
   "outputs": [
    {
     "name": "stderr",
     "output_type": "stream",
     "text": [
      "No handles with labels found to put in legend.\n"
     ]
    },
    {
     "name": "stdout",
     "output_type": "stream",
     "text": [
      "Max Accuracy: 0.76\n",
      "Max F1: 0.86\n"
     ]
    },
    {
     "data": {
      "image/png": "[encoded data removed]",
      "text/plain": [
       "<Figure size 432x288 with 1 Axes>"
      ]
     },
     "metadata": {
      "needs_background": "light"
     },
     "output_type": "display_data"
    }
   ],
   "source": [
    "# Reading outcomes\n",
    "X_train, X_test, y_train, y_test = train_test_split(mostObs_pred, mostObs_ReadOutc, test_size=0.20, random_state = 649)\n",
    "acc_scores = []\n",
    "f1_scores = []\n",
    "neigh_range = list(range(1, 50))\n",
    "for i in neigh_range:\n",
    "    classifier = KNeighborsClassifier(n_neighbors=i)\n",
    "    classifier.fit(X_train, y_train)\n",
    "    pred_train= classifier.predict(X_train)\n",
    "    pred_test= classifier.predict(X_test)\n",
    "    acc_val = metrics.accuracy_score(y_test, pred_test)\n",
    "    acc_scores.append(acc_val)\n",
    "    f1_val = f1_score(y_test, pred_test)\n",
    "    f1_scores.append(f1_val)\n",
    "plt.plot(acc_scores, marker='o', color='black')\n",
    "plt.plot(f1_scores, marker='o', color='blue')\n",
    "plt.legend()\n",
    "print(\"Max Accuracy:\", round(max(acc_scores), 2))\n",
    "print('Max F1:', round(max(f1_scores), 2))"
   ]
  },
  {
   "cell_type": "markdown",
   "metadata": {},
   "source": [
    "### Naive Bayes"
   ]
  },
  {
   "cell_type": "code",
   "execution_count": 14,
   "metadata": {},
   "outputs": [
    {
     "name": "stdout",
     "output_type": "stream",
     "text": [
      "Max Accuracy: 1.0 2\n",
      "Max F1: 1.0 2\n"
     ]
    }
   ],
   "source": [
    "from sklearn.naive_bayes import GaussianNB\n",
    "# Math outcomes. \n",
    "X_train, X_test, y_train, y_test = train_test_split(mostObs_pred, mostObs_MathOutc, test_size=0.20, random_state = 649)\n",
    "classifier = GaussianNB()\n",
    "classifier.fit(X_train, y_train)\n",
    "pred_train= classifier.predict(X_train)\n",
    "pred_test= classifier.predict(X_test)\n",
    "acc_val = metrics.accuracy_score(y_test, pred_test)\n",
    "f1_val = f1_score(y_test, pred_test)\n",
    "print(\"Max Accuracy:\", round(acc_val), 2)\n",
    "print('Max F1:', round(f1_val), 2)"
   ]
  },
  {
   "cell_type": "code",
   "execution_count": 15,
   "metadata": {},
   "outputs": [
    {
     "name": "stdout",
     "output_type": "stream",
     "text": [
      "Max Accuracy: 1.0 2\n",
      "Max F1: 1.0 2\n"
     ]
    }
   ],
   "source": [
    "# Reading outcomes. \n",
    "X_train, X_test, y_train, y_test = train_test_split(mostObs_pred, mostObs_ReadOutc, test_size=0.20, random_state = 649)\n",
    "classifier = GaussianNB()\n",
    "classifier.fit(X_train, y_train)\n",
    "pred_train= classifier.predict(X_train)\n",
    "pred_test= classifier.predict(X_test)\n",
    "acc_val = metrics.accuracy_score(y_test, pred_test)\n",
    "f1_val = f1_score(y_test, pred_test)\n",
    "print(\"Max Accuracy:\", round(acc_val), 2)\n",
    "print('Max F1:', round(f1_val), 2)"
   ]
  },
  {
   "cell_type": "markdown",
   "metadata": {},
   "source": [
    "### Random Forest"
   ]
  },
  {
   "cell_type": "code",
   "execution_count": 17,
   "metadata": {},
   "outputs": [
    {
     "name": "stdout",
     "output_type": "stream",
     "text": [
      "Max Accuracy: 0.81\n",
      "Max F1: 0.79\n"
     ]
    },
    {
     "data": {
      "image/png": "[encoded data removed]",
      "text/plain": [
       "<Figure size 432x288 with 1 Axes>"
      ]
     },
     "metadata": {
      "needs_background": "light"
     },
     "output_type": "display_data"
    }
   ],
   "source": [
    "from sklearn.ensemble import RandomForestClassifier\n",
    "# Math outcomes. \n",
    "X_train, X_test, y_train, y_test = train_test_split(mostObs_pred, mostObs_MathOutc, test_size=0.20, random_state = 649)\n",
    "acc_scores = []\n",
    "f1_scores = []\n",
    "nEst_range = [10, 50, 100, 1000]\n",
    "depth_range = [2, 5, 10, 100]\n",
    "for i in nEst_range:\n",
    "    for k in depth_range:\n",
    "        classifier = RandomForestClassifier(n_estimators=i, max_depth=k)\n",
    "        classifier.fit(X_train, y_train)\n",
    "        pred_train= classifier.predict(X_train)\n",
    "        pred_test= classifier.predict(X_test)\n",
    "        acc_val = metrics.accuracy_score(y_test, pred_test)\n",
    "        acc_scores.append(acc_val)\n",
    "        f1_val = f1_score(y_test, pred_test)\n",
    "        f1_scores.append(f1_val)\n",
    "plt.plot(acc_scores, marker='o', color='black')\n",
    "plt.plot(f1_scores, marker='o', color='blue')\n",
    "print(\"Max Accuracy:\", round(max(acc_scores), 2))\n",
    "print('Max F1:', round(max(f1_scores), 2))"
   ]
  },
  {
   "cell_type": "code",
   "execution_count": 18,
   "metadata": {},
   "outputs": [
    {
     "name": "stdout",
     "output_type": "stream",
     "text": [
      "Max Accuracy: 0.79\n",
      "Max F1: 0.87\n"
     ]
    },
    {
     "data": {
      "image/png": "[encoded data removed]",
      "text/plain": [
       "<Figure size 432x288 with 1 Axes>"
      ]
     },
     "metadata": {
      "needs_background": "light"
     },
     "output_type": "display_data"
    }
   ],
   "source": [
    "# Reading outcomes. \n",
    "X_train, X_test, y_train, y_test = train_test_split(mostObs_pred, mostObs_ReadOutc, test_size=0.20, random_state = 649)\n",
    "acc_scores = []\n",
    "f1_scores = []\n",
    "nEst_range = [10, 50, 100, 1000]\n",
    "depth_range = [2, 5, 10, 100]\n",
    "for i in nEst_range:\n",
    "    for k in depth_range:\n",
    "        classifier = RandomForestClassifier(n_estimators=i, max_depth=k)\n",
    "        classifier.fit(X_train, y_train)\n",
    "        pred_train= classifier.predict(X_train)\n",
    "        pred_test= classifier.predict(X_test)\n",
    "        acc_val = metrics.accuracy_score(y_test, pred_test)\n",
    "        acc_scores.append(acc_val)\n",
    "        f1_val = f1_score(y_test, pred_test)\n",
    "        f1_scores.append(f1_val)\n",
    "plt.plot(acc_scores, marker='o', color='black')\n",
    "plt.plot(f1_scores, marker='o', color='blue')\n",
    "print(\"Max Accuracy:\", round(max(acc_scores), 2))\n",
    "print('Max F1:', round(max(f1_scores), 2))"
   ]
  },
  {
   "cell_type": "markdown",
   "metadata": {},
   "source": [
    "### Neural networks"
   ]
  },
  {
   "cell_type": "code",
   "execution_count": null,
   "metadata": {},
   "outputs": [],
   "source": []
  },
  {
   "cell_type": "code",
   "execution_count": null,
   "metadata": {},
   "outputs": [],
   "source": []
  },
  {
   "cell_type": "markdown",
   "metadata": {},
   "source": [
    "### Ridge Regression"
   ]
  },
  {
   "cell_type": "code",
   "execution_count": null,
   "metadata": {},
   "outputs": [],
   "source": []
  },
  {
   "cell_type": "code",
   "execution_count": null,
   "metadata": {},
   "outputs": [],
   "source": []
  },
  {
   "cell_type": "markdown",
   "metadata": {},
   "source": [
    "### SVM"
   ]
  },
  {
   "cell_type": "markdown",
   "metadata": {},
   "source": [
    "#### Linear SVC kernel"
   ]
  },
  {
   "cell_type": "code",
   "execution_count": null,
   "metadata": {},
   "outputs": [],
   "source": []
  },
  {
   "cell_type": "code",
   "execution_count": null,
   "metadata": {},
   "outputs": [],
   "source": []
  },
  {
   "cell_type": "markdown",
   "metadata": {},
   "source": [
    "#### RBF Kernel"
   ]
  },
  {
   "cell_type": "code",
   "execution_count": null,
   "metadata": {},
   "outputs": [],
   "source": []
  },
  {
   "cell_type": "code",
   "execution_count": null,
   "metadata": {},
   "outputs": [],
   "source": []
  },
  {
   "cell_type": "markdown",
   "metadata": {},
   "source": [
    "### Nearest Neighbor"
   ]
  },
  {
   "cell_type": "code",
   "execution_count": null,
   "metadata": {},
   "outputs": [],
   "source": []
  },
  {
   "cell_type": "code",
   "execution_count": null,
   "metadata": {},
   "outputs": [],
   "source": []
  },
  {
   "cell_type": "markdown",
   "metadata": {},
   "source": [
    "### Naive Bayes"
   ]
  },
  {
   "cell_type": "code",
   "execution_count": null,
   "metadata": {},
   "outputs": [],
   "source": []
  },
  {
   "cell_type": "code",
   "execution_count": null,
   "metadata": {},
   "outputs": [],
   "source": []
  },
  {
   "cell_type": "markdown",
   "metadata": {},
   "source": [
    "### Random Forest"
   ]
  },
  {
   "cell_type": "code",
   "execution_count": null,
   "metadata": {},
   "outputs": [],
   "source": []
  },
  {
   "cell_type": "code",
   "execution_count": null,
   "metadata": {},
   "outputs": [],
   "source": []
  },
  {
   "cell_type": "markdown",
   "metadata": {},
   "source": [
    "### Neural Net"
   ]
  },
  {
   "cell_type": "code",
   "execution_count": null,
   "metadata": {},
   "outputs": [],
   "source": []
  },
  {
   "cell_type": "code",
   "execution_count": null,
   "metadata": {},
   "outputs": [],
   "source": []
  }
 ],
 "metadata": {
  "kernelspec": {
   "display_name": "Python 3",
   "language": "python",
   "name": "python3"
  },
  "language_info": {
   "codemirror_mode": {
    "name": "ipython",
    "version": 3
   },
   "file_extension": ".py",
   "mimetype": "text/x-python",
   "name": "python",
   "nbconvert_exporter": "python",
   "pygments_lexer": "ipython3",
   "version": "3.7.5"
  }
 },
 "nbformat": 4,
 "nbformat_minor": 2
}
